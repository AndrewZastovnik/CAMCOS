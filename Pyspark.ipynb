{
 "cells": [
  {
   "cell_type": "markdown",
   "metadata": {
    "deletable": true,
    "editable": true
   },
   "source": [
    "<pre>\n",
    "Needs to be using python 2 kernal\n",
    "\n",
    "python2 -m pip install ipykernel\n",
    "\n",
    "python2 -m ipykernel install --usern\n",
    "\n",
    "I added this to my .bashrc file\n",
    "\n",
    "export SPARK_HOME=/home/andrew/Downloads/spark-2.1.0-bin-hadoop2.7\n",
    "export PATH = $Spark_HOME/bin:$PATH\n",
    "\n",
    "\n",
    "export PYTHONPATH=$SPARK_HOME/python/$PYTHONPATH\n",
    "export PYTHONPATH=$SPARK_HOME/python/lib/py4j-0.10.4-src.zip$PYTHONPATH\n",
    "\n",
    "Then finally\n",
    "\n",
    "pip2 install findspark\n",
    "</pre>"
   ]
  },
  {
   "cell_type": "code",
   "execution_count": 1,
   "metadata": {
    "collapsed": false,
    "deletable": true,
    "editable": true
   },
   "outputs": [],
   "source": [
    "import findspark\n",
    "findspark.init()\n",
    "import pyspark\n",
    "spark = pyspark.sql.SparkSession \\\n",
    "    .builder \\\n",
    "    .appName(\"Read Some Parquet\") \\\n",
    "    .config(\"spark.some.config.option\", \"some-value\") \\\n",
    "    .getOrCreate()"
   ]
  },
  {
   "cell_type": "code",
   "execution_count": 2,
   "metadata": {
    "collapsed": false,
    "deletable": true,
    "editable": true
   },
   "outputs": [
    {
     "name": "stdout",
     "output_type": "stream",
     "text": [
      "+----------------+------------+-----------+-------+\n",
      "|    subscriberid|featureValue|featureType|measure|\n",
      "+----------------+------------+-----------+-------+\n",
      "|3220237051000000|        dpcz|          4|    1.0|\n",
      "|2294189755000000|       djud1|          4|    1.0|\n",
      "|8102531227000000|       66413|          3|    1.0|\n",
      "|5720868074000000|       57730|          3|    1.0|\n",
      "|7931520141000000|       65746|          3|    1.0|\n",
      "|4388889546000000|       dr77q|          4|    1.0|\n",
      "|3684046523000000|       91750|          3|    1.0|\n",
      "|8702309588000000|       80524|          3|    1.0|\n",
      "|3506846389000000|       99502|          3|    1.0|\n",
      "|6506852123000000|     9q5f36v|          4|    1.0|\n",
      "|2777595771000000|       56320|          3|    1.0|\n",
      "|5882619442000000|       dpq8r|          4|    1.0|\n",
      "|3737765807000000|       99026|          3|    1.0|\n",
      "|3754656122000000|       43964|          3|    1.0|\n",
      "|2790677778000000|        9r94|          4|    1.0|\n",
      "|7887428116000000|       70446|          3|    1.0|\n",
      "|5539548998000000|       07032|          3|    1.0|\n",
      "|1884725782000000|       bdvk9|          4|    1.0|\n",
      "|4976565920000000|       dnhsv|          4|    1.0|\n",
      "|3789409596000000|       bdvk9|          4|    1.0|\n",
      "+----------------+------------+-----------+-------+\n",
      "only showing top 20 rows\n",
      "\n"
     ]
    }
   ],
   "source": [
    "\n",
    "df = spark.read.parquet(\"/home/andrew/Documents/CAMCOS/Verizon/Verizon data/agg/oneday/feature/day=2016-11-25\")\n",
    "df.show()"
   ]
  },
  {
   "cell_type": "code",
   "execution_count": 3,
   "metadata": {
    "collapsed": false,
    "deletable": true,
    "editable": true
   },
   "outputs": [
    {
     "name": "stdout",
     "output_type": "stream",
     "text": [
      "('There are ', 92527, 'unique subscriberids and ', 219873, ' rows the original')\n"
     ]
    }
   ],
   "source": [
    "df.createOrReplaceTempView(\"table1\")\n",
    "df2 = spark.sql(\"SELECT DISTINCT subscriberid from table1\") \n",
    "print(\"There are \",df2.count(), \"unique subscriberids and \", df.count(), \" rows the original\")"
   ]
  },
  {
   "cell_type": "code",
   "execution_count": 4,
   "metadata": {
    "collapsed": false,
    "deletable": true,
    "editable": true
   },
   "outputs": [
    {
     "name": "stdout",
     "output_type": "stream",
     "text": [
      "('There are ', 52652, 'unique featureValues')\n"
     ]
    }
   ],
   "source": [
    "df2 = spark.sql(\"SELECT DISTINCT featureValue from table1\") \n",
    "print(\"There are \",df2.count(), \"unique featureValues\")"
   ]
  },
  {
   "cell_type": "markdown",
   "metadata": {
    "deletable": true,
    "editable": true
   },
   "source": [
    "<pre>\n",
    "Now let's look at our hist table\n",
    "</pre>"
   ]
  },
  {
   "cell_type": "code",
   "execution_count": 5,
   "metadata": {
    "collapsed": false,
    "deletable": true,
    "editable": true
   },
   "outputs": [
    {
     "name": "stdout",
     "output_type": "stream",
     "text": [
      "+----------------+-------+--------------+----------+-----------+--------------------+--------------------+------------+-------------+--------------------+--------------------+--------------------+--------------------+--------------------+--------------------+----------------+--------------------+---------------+--------------------+--------------------+-------+--------------------+-------+-------------------+---------------------+-----------------+------+---------+---------+---------+-------------------+-------+---------+-----------------+----------+-----------+--------------+----------+----------------+----------+-------------------+---------------+----------------+-------------------+-----------------+---------------+--------------------------+------------------------+-----------------------------+------------------+-----------------------------+-------------------+------------------------------+--------------------------+--------------------+----------+------------------+---------+-----------------------+----------------------+----------------------+----------------------+----------------+--------------------+-----------+--------------+-----------------+------------------------+------------------+-----------+---------+-------------+----------------+\n",
      "|    subscriberid|privacy|         osSet|vzCategMap|appCategMap|              dmaMap|            stateMap|vzcategories|appcategories|                 dma|               state|        tldAggScores|     entityAggScores|        zipAggScores|    dynaGeoAggScores|appNameAggScores|                 tld|         entity|                 zip|         dynaGeohash|appname|                 CLM|    age|             income|homeowner_status_desc|marital_status_cd|gender|education|race_desc|lang_desc|child_in_hshld_flag|zip5_cd|acct_type|acct_type_primary|birth_year|birth_month|experian_match|home_value|       residence|occupation|interest_automotive|interest_travel|interest_fitness|interest_home_decor|interest_outdoors|interest_sports|interest_sports_propensity|contributes_to_charities|contrib_to_charity_propensity|purchased_via_mail|purchased_via_mail_propensity|purchase_via_online|purchase_via_online_propensity|internet_online_subscriber|child_in_hshld_count| mosaic_z4|              eaid|child_age|device_mweb_handset_ind|device_gin_handset_ind|device_sms_handset_ind|device_streaming_video|device_data_tier|device_data_tier_fin|device_tier|device_os_type|device_os_version|device_device_brand_name|device_model_alias|device_make|device_os|  device_type|device_osversion|\n",
      "+----------------+-------+--------------+----------+-----------+--------------------+--------------------+------------+-------------+--------------------+--------------------+--------------------+--------------------+--------------------+--------------------+----------------+--------------------+---------------+--------------------+--------------------+-------+--------------------+-------+-------------------+---------------------+-----------------+------+---------+---------+---------+-------------------+-------+---------+-----------------+----------+-----------+--------------+----------+----------------+----------+-------------------+---------------+----------------+-------------------+-----------------+---------------+--------------------------+------------------------+-----------------------------+------------------+-----------------------------+-------------------+------------------------------+--------------------------+--------------------+----------+------------------+---------+-----------------------+----------------------+----------------------+----------------------+----------------+--------------------+-----------+--------------+-----------------+------------------------+------------------+-----------+---------+-------------+----------------+\n",
      "|1000256437000000|    OIN|            []|     Map()|      Map()|Map(20170101 -> W...|Map(20170101 -> W...|          []|           []|               [743]|                [AK]|                null|                null|   Map(99502 -> 2.0)|   Map(bdvk9 -> 2.0)|            null|                null|           null|             [99502]|             [bdvk9]|   null|                null|   null|               null|                 null|             null|  null|     null|     null|     null|               null|   null|     null|             null|      null|       null|          null|      null|            null|      null|               null|           null|            null|               null|             null|           null|                      null|                    null|                         null|              null|                         null|               null|                          null|                      null|                null|      null|              null|     null|                   null|                  null|                  null|                  null|            null|                null|       null|          null|             null|                    null|              null|       null|     null|         null|            null|\n",
      "|1001617822000000|    NOO|            []|     Map()|      Map()|Map(20170105 -> W...|Map(20170105 -> W...|          []|           []|[533, 575, 756, 567]|    [CT, TN, MT, NC]|                null|                null|Map(37301 -> 8.0,...|Map(dn71 -> 8.0, ...|            null|                null|           null|[37301, 59068, 28...|[dn71, dnm88u, 9v...|   null|                null|   null|               null|                 null|             null|  null|     null|     null|     null|               null|   null|     null|             null|      null|       null|          null|      null|            null|      null|               null|           null|            null|               null|             null|           null|                      null|                    null|                         null|              null|                         null|               null|                          null|                      null|                null|      null|              null|     null|                      Y|                     N|                     N|                     N|        Internet|            Internet|           |           8.1|              QCM|                     QEC|                NA|      Apple|      iOS|         Card|             QCM|\n",
      "|1001846729000000|    NOO|            []|     Map()|      Map()|Map(20170120 -> W...|Map(20170120 -> W...|          []|           []|[670, 602, 709, 743]|[OK, UNKNOWN, TX,...|                null|                null|Map(60491 -> 13.0...|Map(dp3kxn -> 3.0...|            null|                null|           null|[60491, 74945, 75...|[dp3kxn, dp3kxq, ...|   null|                null|   null|               null|                 null|             null|  null|     null|     null|     null|               null|   null|     null|             null|      null|       null|          null|      null|            null|      null|               null|           null|            null|               null|             null|           null|                      null|                    null|                         null|              null|                         null|               null|                          null|                      null|                null|      null|              null|     null|                      Y|                      |                     Y|                      |     Smartphones|            Internet|           |              |              EFA|                     QEC|                 Y|      Apple|      iOS|  Smart Phone|             EFA|\n",
      "|1002918146000000|    NOO|[Windows, iOS]|     Map()|      Map()|Map(20170202 -> W...|Map(20170202 -> W...|          []|           []|               [506]|                [MA]|Map(glenbrookdodg...|                null|Map(02458 -> 12.0...|Map(drt2unw -> 1....|            null|[glenbrookdodgech...|           null|      [02458, 02459]|[drt2unw, drt2unq...|   null|                null|   null|               null|                 null|             null|  null|     null|     null|     null|               null|   null|     null|             null|      null|       null|          null|      null|            null|      null|               null|           null|            null|               null|             null|           null|                      null|                    null|                         null|              null|                         null|               null|                          null|                      null|                null|      null|              null|     null|                      Y|                     N|                     Y|                     N|           basic|         Smartphones|           |              |              QCM|                     QEC|                  |      Apple|      iOS|Feature Phone|             QCM|\n",
      "|1003076438000000|    NOO|     [Windows]|     Map()|      Map()|Map(20170113 -> W...|Map(20170113 -> W...|          []|           []|               [554]|                [OH]|                null|                null|   Map(43716 -> 5.0)|    Map(dpn6 -> 5.0)|            null|                null|           null|             [43716]|              [dpn6]|   null|                null|   null|               null|                 null|             null|  null|     null|     null|     null|               null|   null|     null|             null|      null|       null|          null|      null|            null|      null|               null|           null|            null|               null|             null|           null|                      null|                    null|                         null|              null|                         null|               null|                          null|                      null|                null|      null|              null|     null|                      N|                      |                     N|                     Y|        Internet|            Internet|           |              |              PDS|                        |                NA|   Qualcomm|  Unknown|       Module|             PDS|\n",
      "|1005457930000000|    OIN|            []|     Map()|      Map()|Map(20170131 -> W...|Map(20170131 -> W...|          []|           []|               [527]|                [IN]|                null|                null|   Map(47342 -> 6.0)|   Map(dp5jr -> 6.0)|            null|                null|           null|             [47342]|             [dp5jr]|   null|                null|55 - 64|  $50,000 - $74,999|                     |                U|     M|        3|    Asian|  Spanish|                  N|  99841|        L|    acct_primary3|      1952|         05|              |          |Less than a year|          |                   |              0|                |                   |                 |               |                         Y|                        |                             |                  |                             |                   |                             6|                          |                    |          |  Family Funtastic|       []|                   null|                  null|                  null|                  null|            null|                null|       null|          null|             null|                    null|              null|       null|     null|         null|            null|\n",
      "|1007199274000000|    NOO|            []|     Map()|      Map()|Map(20170202 -> W...|Map(20170202 -> W...|          []|           []|          [623, 709]|                [TX]|                null|                null|Map(75446 -> 5.0,...|Map(9vs9 -> 2.0, ...|            null|                null|           null|      [75446, 75904]|        [9vs9, 9vgy]|   null|                null|   null|               null|                 null|             null|  null|     null|     null|     null|               null|   null|     null|             null|      null|       null|          null|      null|            null|      null|               null|           null|            null|               null|             null|           null|                      null|                    null|                         null|              null|                         null|               null|                          null|                      null|                null|      null|              null|     null|                   null|                  null|                  null|                  null|            null|                null|       null|          null|             null|                    null|              null|       null|     null|         null|            null|\n",
      "|1007566597000000|    NOO|            []|     Map()|      Map()|Map(20170103 -> W...|Map(20170103 -> W...|          []|           []|                  []|                  []|                null|                null|                null|                null|            null|                null|           null|                null|                null|   null|[CLM.25_membershi...|35 - 44|$125,000 - $149,999|                     |                U|     F|        5|    Other|  Spanish|                  N|  13345|        L|    acct_primary3|      1929|         12|              |          |         10 - 25|     Other|                   |               |                |                   |                 |               |                          |                        |                             |                  |                            1|                   |                             5|                          |                    |          |No Place Like Home|       []|                   null|                  null|                  null|                  null|            null|                null|       null|          null|             null|                    null|              null|       null|     null|         null|            null|\n",
      "|1008608407000000|    NOO|            []|     Map()|      Map()|Map(20170120 -> W...|Map(20170120 -> W...|          []|           []|[686, 521, 548, 819]|        [FL, RI, WA]|                null|                null|Map(02804 -> 14.0...|Map(drkgx -> 14.0...|            null|                null|           null|[02804, 33470, 32...|[drkgx, dhwzu, dj...|   null|                null|   null|               null|                 null|             null|  null|     null|     null|     null|               null|   null|     null|             null|      null|       null|          null|      null|            null|      null|               null|           null|            null|               null|             null|           null|                      null|                    null|                         null|              null|                         null|               null|                          null|                      null|                null|      null|              null|     null|                       |                     Y|                     N|                     N|        Internet|            Internet|           |              |              AQC|                     QEC|                NA|         LG|  Android|       Module|             AQC|\n",
      "|1008766785000000|    NOO|[Windows, iOS]|     Map()|      Map()|Map(20170102 -> W...|Map(20170102 -> W...|          []|           []|               [613]|                [MN]|                null|                null|   Map(55053 -> 6.0)|   Map(9zvuc -> 6.0)|            null|                null|           null|             [55053]|             [9zvuc]|   null|                null|   null|               null|                 null|             null|  null|     null|     null|     null|               null|   null|     null|             null|      null|       null|          null|      null|            null|      null|               null|           null|            null|               null|             null|           null|                      null|                    null|                         null|              null|                         null|               null|                          null|                      null|                null|      null|              null|     null|                      Y|                      |                     Y|                     N|     Smartphones|         Smartphones|           |              |              AQC|                     QEC|                  |   Qualcomm|  Android|  Smart Phone|             AQC|\n",
      "|1012055392000000|    NOO|[Windows, iOS]|     Map()|      Map()|Map(20170202 -> W...|Map(20170202 -> W...|          []|           []|                  []|                  []|Map(usmilitarymus...| Map(telenor -> 1.0)|   Map(92106 -> 1.0)|Map(9mudhn -> 1.0...|            null|[usmilitarymuseum...|      [telenor]|             [92106]|    [9mudhn, 9mudhq]|   null|[CLM.25_membershi...|35 - 44|$175,000 - $199,999|                     |                U|     F|        2|    Asian|  Spanish|                  N|  92386|        L|    acct_primary3|      1921|         05|              |          |             26+|     Other|                   |               |                |                   |                 |               |                          |                        |                             |                  |                             |                   |                              |                          |                    |          |       Latin Flair|       []|                   null|                  null|                  null|                  null|            null|                null|       null|          null|             null|                    null|              null|       null|     null|         null|            null|\n",
      "|1015120891000000|    NOO|[iOS, Windows]|     Map()|      Map()|Map(20170126 -> W...|Map(20170126 -> W...|          []|           []|                  []|                  []|Map(lindasecrist....|                null|   Map(94044 -> 1.0)|Map(9q8yf -> 1.0,...|            null|  [lindasecrist.com]|           null|             [94044]|      [9q8yf, 9q8yc]|   null|                null|55 - 64|   35,000 - $49,999|                     |                U|     M|        3|   Jewish|  Spanish|                  Y|  93033|    acct4|                 |      1960|         11|             N|          |                |          |                   |               |                |                   |                 |              Y|                          |                        |                             |                  |                             |                   |                             2|                          |                    |4 Children| Kids And Cabernet|    [7-9]|                      N|                     Y|                     Y|                     N|     Smartphones|               basic|           |           8.1|              AQC|                     QEC|                 N|         LG|  Android|  Smart Phone|             AQC|\n",
      "|1015630983000000|    OIN|            []|     Map()|      Map()|Map(20170120 -> W...|Map(20170120 -> W...|          []|           []|[511, 567, 506, 8...|[MD, SC, NH, MA, CA]|                null|                null|Map(03079 -> 4.0,...|Map(9q5dp8 -> 10....|            null|                null|           null|[03079, 03076, 29...|[9q5dp8, drt75j, ...|   null|                null|   null|               null|                 null|             null|  null|     null|     null|     null|               null|   null|     null|             null|      null|       null|          null|      null|            null|      null|               null|           null|            null|               null|             null|           null|                      null|                    null|                         null|              null|                         null|               null|                          null|                      null|                null|      null|              null|     null|                      Y|                     Y|                     N|                     N|           basic|               basic|           |              |              PDS|                     QEC|                  |      Apple|      iOS|Feature Phone|             PDS|\n",
      "|1016035541000000|    NOO|            []|     Map()|      Map()|Map(20161231 -> W...|Map(20161231 -> W...|          []|           []|                  []|                  []|                null|                null|                null|                null|            null|                null|           null|                null|                null|   null|                null|   null|               null|                 null|             null|  null|     null|     null|     null|               null|   null|     null|             null|      null|       null|          null|      null|            null|      null|               null|           null|            null|               null|             null|           null|                      null|                    null|                         null|              null|                         null|               null|                          null|                      null|                null|      null|              null|     null|                   null|                  null|                  null|                  null|            null|                null|       null|          null|             null|                    null|              null|       null|     null|         null|            null|\n",
      "|1016312804000000|    OIN|            []|     Map()|      Map()|Map(20170109 -> W...|Map(20170109 -> W...|          []|           []|               [743]|                [AK]|                null|                null|  Map(99502 -> 14.0)|  Map(bdvk9 -> 14.0)|            null|                null|           null|             [99502]|             [bdvk9]|   null|                null|   null|               null|                 null|             null|  null|     null|     null|     null|               null|   null|     null|             null|      null|       null|          null|      null|            null|      null|               null|           null|            null|               null|             null|           null|                      null|                    null|                         null|              null|                         null|               null|                          null|                      null|                null|      null|              null|     null|                   null|                  null|                  null|                  null|            null|                null|       null|          null|             null|                    null|              null|       null|     null|         null|            null|\n",
      "|1017716292000000|    NOO|            []|     Map()|      Map()|Map(20170108 -> W...|Map(20170108 -> W...|          []|           []|               [630]|                [AL]|                null|                null|  Map(35580 -> 15.0)|   Map(djcz -> 15.0)|            null|                null|           null|             [35580]|              [djcz]|   null|                null|   null|               null|                 null|             null|  null|     null|     null|     null|               null|   null|     null|             null|      null|       null|          null|      null|            null|      null|               null|           null|            null|               null|             null|           null|                      null|                    null|                         null|              null|                         null|               null|                          null|                      null|                null|      null|              null|     null|                   null|                  null|                  null|                  null|            null|                null|       null|          null|             null|                    null|              null|       null|     null|         null|            null|\n",
      "|1018474139000000|    NOO|     [Windows]|     Map()|      Map()|Map(20170110 -> W...|Map(20170110 -> W...|          []|           []|                  []|                  []|Map(bcferries.com...|Map(electrotyping...|                null|                null|            null|     [bcferries.com]|[electrotyping]|                null|                null|   null|                null|35 - 44|    $1000 - $14,999|                     |                U|      |        2|   Jewish|    Greek|                  Y|   7863|    acct4|    acct_primary3|      1990|         12|              |          |Less than a year|          |                   |               |               0|                   |                 |               |                          |                        |                            4|                  |                            5|                   |                             5|                          |                    |2 Children|  Gospel And Grits|       []|                      N|                     Y|                     Y|                     Y|        Internet|            Internet|           |           8.1|              QCM|                     POL|                  |      Apple|      iOS|         Card|             QCM|\n",
      "|1018968166000000|    NOO|[Windows, iOS]|     Map()|      Map()|Map(20170120 -> W...|Map(20170120 -> W...|          []|           []|               [743]|                [AK]|Map(golfcollege.e...|                null|Map(99502 -> 2.0,...|Map(dndf6 -> 1.0,...|            null|   [golfcollege.edu]|           null|      [99502, 42141]|      [dndf6, bdvk9]|   null|                null|   null|               null|                 null|             null|  null|     null|     null|     null|               null|   null|     null|             null|      null|       null|          null|      null|            null|      null|               null|           null|            null|               null|             null|           null|                      null|                    null|                         null|              null|                         null|               null|                          null|                      null|                null|      null|              null|     null|                      Y|                     N|                     N|                     N|           basic|               basic|           |              |              QCM|                     POL|                 N|      Apple|      iOS|Feature Phone|             QCM|\n",
      "|1018993199000000|    NOO|     [Windows]|     Map()|      Map()|Map(20170120 -> W...|Map(20170120 -> W...|          []|           []|                  []|                  []|Map(cccti.edu -> ...|Map(caesaropapism...|                null|                null|            null|[cccti.edu, elcoy...|[caesaropapism]|                null|                null|   null|                null|   null|               null|                 null|             null|  null|     null|     null|     null|               null|   null|     null|             null|      null|       null|          null|      null|            null|      null|               null|           null|            null|               null|             null|           null|                      null|                    null|                         null|              null|                         null|               null|                          null|                      null|                null|      null|              null|     null|                      N|                     N|                     N|                     N|        Internet|            Internet|          Y|              |              QCM|                     QDA|                  |      Apple|      iOS|       Module|             QCM|\n",
      "|1019396984000000|    NOO|[Windows, iOS]|     Map()|      Map()|Map(20170202 -> W...|Map(20170202 -> W...|          []|           []|                  []|                  []|Map(bryancountyga...|                null|                null|                null|            null|[bryancountyga.or...|           null|                null|                null|   null|                null|   null|               null|                 null|             null|  null|     null|     null|     null|               null|   null|     null|             null|      null|       null|          null|      null|            null|      null|               null|           null|            null|               null|             null|           null|                      null|                    null|                         null|              null|                         null|               null|                          null|                      null|                null|      null|              null|     null|                   null|                  null|                  null|                  null|            null|                null|       null|          null|             null|                    null|              null|       null|     null|         null|            null|\n",
      "+----------------+-------+--------------+----------+-----------+--------------------+--------------------+------------+-------------+--------------------+--------------------+--------------------+--------------------+--------------------+--------------------+----------------+--------------------+---------------+--------------------+--------------------+-------+--------------------+-------+-------------------+---------------------+-----------------+------+---------+---------+---------+-------------------+-------+---------+-----------------+----------+-----------+--------------+----------+----------------+----------+-------------------+---------------+----------------+-------------------+-----------------+---------------+--------------------------+------------------------+-----------------------------+------------------+-----------------------------+-------------------+------------------------------+--------------------------+--------------------+----------+------------------+---------+-----------------------+----------------------+----------------------+----------------------+----------------+--------------------+-----------+--------------+-----------------+------------------------+------------------+-----------+---------+-------------+----------------+\n",
      "only showing top 20 rows\n",
      "\n"
     ]
    }
   ],
   "source": [
    "hist = spark.read.parquet(\"/home/andrew/Documents/CAMCOS/Verizon/Verizon data/agg/agg/hist/date=20170202\")\n",
    "hist.show()"
   ]
  },
  {
   "cell_type": "code",
   "execution_count": 6,
   "metadata": {
    "collapsed": false,
    "deletable": true,
    "editable": true
   },
   "outputs": [
    {
     "name": "stdout",
     "output_type": "stream",
     "text": [
      "('There are ', 999937, ' rows in hist and ', 73, ' columns')\n",
      "The columns are \n",
      "\n",
      "root\n",
      " |-- subscriberid: string (nullable = true)\n",
      " |-- privacy: string (nullable = true)\n",
      " |-- osSet: array (nullable = true)\n",
      " |    |-- element: string (containsNull = true)\n",
      " |-- vzCategMap: map (nullable = true)\n",
      " |    |-- key: string\n",
      " |    |-- value: array (valueContainsNull = true)\n",
      " |    |    |-- element: string (containsNull = true)\n",
      " |-- appCategMap: map (nullable = true)\n",
      " |    |-- key: string\n",
      " |    |-- value: array (valueContainsNull = true)\n",
      " |    |    |-- element: string (containsNull = true)\n",
      " |-- dmaMap: map (nullable = true)\n",
      " |    |-- key: string\n",
      " |    |-- value: array (valueContainsNull = true)\n",
      " |    |    |-- element: string (containsNull = true)\n",
      " |-- stateMap: map (nullable = true)\n",
      " |    |-- key: string\n",
      " |    |-- value: array (valueContainsNull = true)\n",
      " |    |    |-- element: string (containsNull = true)\n",
      " |-- vzcategories: array (nullable = true)\n",
      " |    |-- element: string (containsNull = true)\n",
      " |-- appcategories: array (nullable = true)\n",
      " |    |-- element: string (containsNull = true)\n",
      " |-- dma: array (nullable = true)\n",
      " |    |-- element: string (containsNull = true)\n",
      " |-- state: array (nullable = true)\n",
      " |    |-- element: string (containsNull = true)\n",
      " |-- tldAggScores: map (nullable = true)\n",
      " |    |-- key: string\n",
      " |    |-- value: double (valueContainsNull = true)\n",
      " |-- entityAggScores: map (nullable = true)\n",
      " |    |-- key: string\n",
      " |    |-- value: double (valueContainsNull = true)\n",
      " |-- zipAggScores: map (nullable = true)\n",
      " |    |-- key: string\n",
      " |    |-- value: double (valueContainsNull = true)\n",
      " |-- dynaGeoAggScores: map (nullable = true)\n",
      " |    |-- key: string\n",
      " |    |-- value: double (valueContainsNull = true)\n",
      " |-- appNameAggScores: map (nullable = true)\n",
      " |    |-- key: string\n",
      " |    |-- value: double (valueContainsNull = true)\n",
      " |-- tld: array (nullable = true)\n",
      " |    |-- element: string (containsNull = true)\n",
      " |-- entity: array (nullable = true)\n",
      " |    |-- element: string (containsNull = true)\n",
      " |-- zip: array (nullable = true)\n",
      " |    |-- element: string (containsNull = true)\n",
      " |-- dynaGeohash: array (nullable = true)\n",
      " |    |-- element: string (containsNull = true)\n",
      " |-- appname: array (nullable = true)\n",
      " |    |-- element: string (containsNull = true)\n",
      " |-- CLM: array (nullable = true)\n",
      " |    |-- element: string (containsNull = true)\n",
      " |-- age: string (nullable = true)\n",
      " |-- income: string (nullable = true)\n",
      " |-- homeowner_status_desc: string (nullable = true)\n",
      " |-- marital_status_cd: string (nullable = true)\n",
      " |-- gender: string (nullable = true)\n",
      " |-- education: string (nullable = true)\n",
      " |-- race_desc: string (nullable = true)\n",
      " |-- lang_desc: string (nullable = true)\n",
      " |-- child_in_hshld_flag: string (nullable = true)\n",
      " |-- zip5_cd: string (nullable = true)\n",
      " |-- acct_type: string (nullable = true)\n",
      " |-- acct_type_primary: string (nullable = true)\n",
      " |-- birth_year: string (nullable = true)\n",
      " |-- birth_month: string (nullable = true)\n",
      " |-- experian_match: string (nullable = true)\n",
      " |-- home_value: string (nullable = true)\n",
      " |-- residence: string (nullable = true)\n",
      " |-- occupation: string (nullable = true)\n",
      " |-- interest_automotive: string (nullable = true)\n",
      " |-- interest_travel: string (nullable = true)\n",
      " |-- interest_fitness: string (nullable = true)\n",
      " |-- interest_home_decor: string (nullable = true)\n",
      " |-- interest_outdoors: string (nullable = true)\n",
      " |-- interest_sports: string (nullable = true)\n",
      " |-- interest_sports_propensity: string (nullable = true)\n",
      " |-- contributes_to_charities: string (nullable = true)\n",
      " |-- contrib_to_charity_propensity: string (nullable = true)\n",
      " |-- purchased_via_mail: string (nullable = true)\n",
      " |-- purchased_via_mail_propensity: string (nullable = true)\n",
      " |-- purchase_via_online: string (nullable = true)\n",
      " |-- purchase_via_online_propensity: string (nullable = true)\n",
      " |-- internet_online_subscriber: string (nullable = true)\n",
      " |-- child_in_hshld_count: string (nullable = true)\n",
      " |-- mosaic_z4: string (nullable = true)\n",
      " |-- eaid: string (nullable = true)\n",
      " |-- child_age: array (nullable = true)\n",
      " |    |-- element: string (containsNull = true)\n",
      " |-- device_mweb_handset_ind: string (nullable = true)\n",
      " |-- device_gin_handset_ind: string (nullable = true)\n",
      " |-- device_sms_handset_ind: string (nullable = true)\n",
      " |-- device_streaming_video: string (nullable = true)\n",
      " |-- device_data_tier: string (nullable = true)\n",
      " |-- device_data_tier_fin: string (nullable = true)\n",
      " |-- device_tier: string (nullable = true)\n",
      " |-- device_os_type: string (nullable = true)\n",
      " |-- device_os_version: string (nullable = true)\n",
      " |-- device_device_brand_name: string (nullable = true)\n",
      " |-- device_model_alias: string (nullable = true)\n",
      " |-- device_make: string (nullable = true)\n",
      " |-- device_os: string (nullable = true)\n",
      " |-- device_type: string (nullable = true)\n",
      " |-- device_osversion: string (nullable = true)\n",
      "\n"
     ]
    }
   ],
   "source": [
    "# Really ugly but what is the shape of hist\n",
    "print('There are ',hist.count(),' rows in hist and ',len(hist.schema), ' columns')\n",
    "print('The columns are \\n')\n",
    "hist.printSchema()"
   ]
  },
  {
   "cell_type": "code",
   "execution_count": 13,
   "metadata": {
    "collapsed": false,
    "deletable": true,
    "editable": true,
    "scrolled": true
   },
   "outputs": [],
   "source": [
    "hist.createOrReplaceTempView(\"table1\")\n",
    "df2 = spark.sql(\"SELECT tld from table1\") \n",
    "df2 = df2.na.drop(subset=[\"tld\"])\n",
    "\n",
    "#hist_tld = df2.rdd\n",
    "#print(hist_tld.map(lambda x:(x[1]))).\\\n",
    " #   reduce(lambda x:type(x))\n",
    "#import matplotlib.pyplot as plt\n"
   ]
  },
  {
   "cell_type": "code",
   "execution_count": 17,
   "metadata": {
    "collapsed": false
   },
   "outputs": [],
   "source": [
    "df2.toPandas().to_csv(\"/home/andrew/websites.csv\")"
   ]
  },
  {
   "cell_type": "code",
   "execution_count": 19,
   "metadata": {
    "collapsed": false
   },
   "outputs": [
    {
     "data": {
      "text/html": [
       "<div>\n",
       "<table border=\"1\" class=\"dataframe\">\n",
       "  <thead>\n",
       "    <tr style=\"text-align: right;\">\n",
       "      <th></th>\n",
       "      <th>Unnamed: 0</th>\n",
       "      <th>tld</th>\n",
       "    </tr>\n",
       "  </thead>\n",
       "  <tbody>\n",
       "    <tr>\n",
       "      <th>0</th>\n",
       "      <td>0</td>\n",
       "      <td>[u'glenbrookdodgechryslerjeep.com']</td>\n",
       "    </tr>\n",
       "    <tr>\n",
       "      <th>1</th>\n",
       "      <td>1</td>\n",
       "      <td>[u'usmilitarymuseum.org', u'baldtruthtalk.com'...</td>\n",
       "    </tr>\n",
       "    <tr>\n",
       "      <th>2</th>\n",
       "      <td>2</td>\n",
       "      <td>[u'lindasecrist.com']</td>\n",
       "    </tr>\n",
       "    <tr>\n",
       "      <th>3</th>\n",
       "      <td>3</td>\n",
       "      <td>[u'bcferries.com']</td>\n",
       "    </tr>\n",
       "    <tr>\n",
       "      <th>4</th>\n",
       "      <td>4</td>\n",
       "      <td>[u'golfcollege.edu']</td>\n",
       "    </tr>\n",
       "    <tr>\n",
       "      <th>5</th>\n",
       "      <td>5</td>\n",
       "      <td>[u'cccti.edu', u'elcoyotecafe.com']</td>\n",
       "    </tr>\n",
       "    <tr>\n",
       "      <th>6</th>\n",
       "      <td>6</td>\n",
       "      <td>[u'bryancountyga.org', u'propertyresourcesgrou...</td>\n",
       "    </tr>\n",
       "    <tr>\n",
       "      <th>7</th>\n",
       "      <td>7</td>\n",
       "      <td>[u'kfc.com.cn', u'smscsoccer.com', u'texaspepp...</td>\n",
       "    </tr>\n",
       "    <tr>\n",
       "      <th>8</th>\n",
       "      <td>8</td>\n",
       "      <td>[u'rlac.com', u'mayersonjcc.org', u'ossipeelak...</td>\n",
       "    </tr>\n",
       "    <tr>\n",
       "      <th>9</th>\n",
       "      <td>9</td>\n",
       "      <td>[u'chevytalk.org', u'barnesville.k12.oh.us']</td>\n",
       "    </tr>\n",
       "    <tr>\n",
       "      <th>10</th>\n",
       "      <td>10</td>\n",
       "      <td>[u'ocean.k12.wa.us']</td>\n",
       "    </tr>\n",
       "    <tr>\n",
       "      <th>11</th>\n",
       "      <td>11</td>\n",
       "      <td>[u'townofkentct.org', u'windhamhouse.com', u'w...</td>\n",
       "    </tr>\n",
       "    <tr>\n",
       "      <th>12</th>\n",
       "      <td>12</td>\n",
       "      <td>[u'shadowtrader.net']</td>\n",
       "    </tr>\n",
       "    <tr>\n",
       "      <th>13</th>\n",
       "      <td>13</td>\n",
       "      <td>[u'jamestownharley.com']</td>\n",
       "    </tr>\n",
       "    <tr>\n",
       "      <th>14</th>\n",
       "      <td>14</td>\n",
       "      <td>[u'brainerdsports.net', u'georgewhiteames.com'...</td>\n",
       "    </tr>\n",
       "    <tr>\n",
       "      <th>15</th>\n",
       "      <td>15</td>\n",
       "      <td>[u'bigtopbouncers.com']</td>\n",
       "    </tr>\n",
       "    <tr>\n",
       "      <th>16</th>\n",
       "      <td>16</td>\n",
       "      <td>[u'metigosheministries.com', u'autodev.com']</td>\n",
       "    </tr>\n",
       "    <tr>\n",
       "      <th>17</th>\n",
       "      <td>17</td>\n",
       "      <td>[u'kasd.org']</td>\n",
       "    </tr>\n",
       "    <tr>\n",
       "      <th>18</th>\n",
       "      <td>18</td>\n",
       "      <td>[u'metrotvnews.com']</td>\n",
       "    </tr>\n",
       "    <tr>\n",
       "      <th>19</th>\n",
       "      <td>19</td>\n",
       "      <td>[u'marealtor.com']</td>\n",
       "    </tr>\n",
       "    <tr>\n",
       "      <th>20</th>\n",
       "      <td>20</td>\n",
       "      <td>[u'kajeet.com', u'scoliosis.org', u'crowclinic...</td>\n",
       "    </tr>\n",
       "    <tr>\n",
       "      <th>21</th>\n",
       "      <td>21</td>\n",
       "      <td>[u'sake-world.com']</td>\n",
       "    </tr>\n",
       "    <tr>\n",
       "      <th>22</th>\n",
       "      <td>22</td>\n",
       "      <td>[u'ips-dc.org']</td>\n",
       "    </tr>\n",
       "    <tr>\n",
       "      <th>23</th>\n",
       "      <td>23</td>\n",
       "      <td>[u'bestwesterncapitola.com']</td>\n",
       "    </tr>\n",
       "    <tr>\n",
       "      <th>24</th>\n",
       "      <td>24</td>\n",
       "      <td>[u'majesticcarpetcleaning.net']</td>\n",
       "    </tr>\n",
       "    <tr>\n",
       "      <th>25</th>\n",
       "      <td>25</td>\n",
       "      <td>[u'ipmarker.com']</td>\n",
       "    </tr>\n",
       "    <tr>\n",
       "      <th>26</th>\n",
       "      <td>26</td>\n",
       "      <td>[u'thebentspoon.net', u'thegingerman.com']</td>\n",
       "    </tr>\n",
       "    <tr>\n",
       "      <th>27</th>\n",
       "      <td>27</td>\n",
       "      <td>[u'877parties.com']</td>\n",
       "    </tr>\n",
       "    <tr>\n",
       "      <th>28</th>\n",
       "      <td>28</td>\n",
       "      <td>[u'themarlayhouse.com', u'saisd.org', u'shesai...</td>\n",
       "    </tr>\n",
       "    <tr>\n",
       "      <th>29</th>\n",
       "      <td>29</td>\n",
       "      <td>[u'pizzamanak.com']</td>\n",
       "    </tr>\n",
       "    <tr>\n",
       "      <th>...</th>\n",
       "      <td>...</td>\n",
       "      <td>...</td>\n",
       "    </tr>\n",
       "    <tr>\n",
       "      <th>330118</th>\n",
       "      <td>330118</td>\n",
       "      <td>[u'dvdverdict.com']</td>\n",
       "    </tr>\n",
       "    <tr>\n",
       "      <th>330119</th>\n",
       "      <td>330119</td>\n",
       "      <td>[u'telefe.com', u'rsiinsurancebrokers.com']</td>\n",
       "    </tr>\n",
       "    <tr>\n",
       "      <th>330120</th>\n",
       "      <td>330120</td>\n",
       "      <td>[u'lexcem.org', u'guymturner.com']</td>\n",
       "    </tr>\n",
       "    <tr>\n",
       "      <th>330121</th>\n",
       "      <td>330121</td>\n",
       "      <td>[u'collegecalc.org']</td>\n",
       "    </tr>\n",
       "    <tr>\n",
       "      <th>330122</th>\n",
       "      <td>330122</td>\n",
       "      <td>[u'humanrightsattorney.com', u'tuttocitta.it',...</td>\n",
       "    </tr>\n",
       "    <tr>\n",
       "      <th>330123</th>\n",
       "      <td>330123</td>\n",
       "      <td>[u'555east.com']</td>\n",
       "    </tr>\n",
       "    <tr>\n",
       "      <th>330124</th>\n",
       "      <td>330124</td>\n",
       "      <td>[u'sandusky-city.k12.oh.us']</td>\n",
       "    </tr>\n",
       "    <tr>\n",
       "      <th>330125</th>\n",
       "      <td>330125</td>\n",
       "      <td>[u'bassani.com']</td>\n",
       "    </tr>\n",
       "    <tr>\n",
       "      <th>330126</th>\n",
       "      <td>330126</td>\n",
       "      <td>[u'gothamcomedyclub.com']</td>\n",
       "    </tr>\n",
       "    <tr>\n",
       "      <th>330127</th>\n",
       "      <td>330127</td>\n",
       "      <td>[u'turnto10.com', u'c-cyachts.com']</td>\n",
       "    </tr>\n",
       "    <tr>\n",
       "      <th>330128</th>\n",
       "      <td>330128</td>\n",
       "      <td>[u'jamestowndistributors.com']</td>\n",
       "    </tr>\n",
       "    <tr>\n",
       "      <th>330129</th>\n",
       "      <td>330129</td>\n",
       "      <td>[u'jrslastlaugh.com', u'bazonline.ch']</td>\n",
       "    </tr>\n",
       "    <tr>\n",
       "      <th>330130</th>\n",
       "      <td>330130</td>\n",
       "      <td>[u'cityofportlandtn.gov']</td>\n",
       "    </tr>\n",
       "    <tr>\n",
       "      <th>330131</th>\n",
       "      <td>330131</td>\n",
       "      <td>[u'carstar.com', u'uww.edu', u'sycamorervresor...</td>\n",
       "    </tr>\n",
       "    <tr>\n",
       "      <th>330132</th>\n",
       "      <td>330132</td>\n",
       "      <td>[u'mokanbcrescue.org', u'kddi.com']</td>\n",
       "    </tr>\n",
       "    <tr>\n",
       "      <th>330133</th>\n",
       "      <td>330133</td>\n",
       "      <td>[u'takachpress.com']</td>\n",
       "    </tr>\n",
       "    <tr>\n",
       "      <th>330134</th>\n",
       "      <td>330134</td>\n",
       "      <td>[u'starizona.com']</td>\n",
       "    </tr>\n",
       "    <tr>\n",
       "      <th>330135</th>\n",
       "      <td>330135</td>\n",
       "      <td>[u'abatewis.org']</td>\n",
       "    </tr>\n",
       "    <tr>\n",
       "      <th>330136</th>\n",
       "      <td>330136</td>\n",
       "      <td>[u'giltner.k12.ne.us', u'tazewellspeedway.net'...</td>\n",
       "    </tr>\n",
       "    <tr>\n",
       "      <th>330137</th>\n",
       "      <td>330137</td>\n",
       "      <td>[u'btetech.com']</td>\n",
       "    </tr>\n",
       "    <tr>\n",
       "      <th>330138</th>\n",
       "      <td>330138</td>\n",
       "      <td>[u'innatthepresidio.com']</td>\n",
       "    </tr>\n",
       "    <tr>\n",
       "      <th>330139</th>\n",
       "      <td>330139</td>\n",
       "      <td>[u'koehlerlaw.net', u'generalfinishes.com', u'...</td>\n",
       "    </tr>\n",
       "    <tr>\n",
       "      <th>330140</th>\n",
       "      <td>330140</td>\n",
       "      <td>[u'wellsfargo.com', u'hfradio.org', u'vsso.org...</td>\n",
       "    </tr>\n",
       "    <tr>\n",
       "      <th>330141</th>\n",
       "      <td>330141</td>\n",
       "      <td>[u'lakeregionschools.org']</td>\n",
       "    </tr>\n",
       "    <tr>\n",
       "      <th>330142</th>\n",
       "      <td>330142</td>\n",
       "      <td>[u'tri-rail.com']</td>\n",
       "    </tr>\n",
       "    <tr>\n",
       "      <th>330143</th>\n",
       "      <td>330143</td>\n",
       "      <td>[u'epcasabyowner.com']</td>\n",
       "    </tr>\n",
       "    <tr>\n",
       "      <th>330144</th>\n",
       "      <td>330144</td>\n",
       "      <td>[u'tek-tips.com', u'bgcourt.org', u'wellschamb...</td>\n",
       "    </tr>\n",
       "    <tr>\n",
       "      <th>330145</th>\n",
       "      <td>330145</td>\n",
       "      <td>[u'kimballartcenter.org', u'jimsusa.com', u'oc...</td>\n",
       "    </tr>\n",
       "    <tr>\n",
       "      <th>330146</th>\n",
       "      <td>330146</td>\n",
       "      <td>[u'bethel-omaha.org', u'exoticpetvet.net']</td>\n",
       "    </tr>\n",
       "    <tr>\n",
       "      <th>330147</th>\n",
       "      <td>330147</td>\n",
       "      <td>[u'hackerstickers.com']</td>\n",
       "    </tr>\n",
       "  </tbody>\n",
       "</table>\n",
       "<p>330148 rows × 2 columns</p>\n",
       "</div>"
      ],
      "text/plain": [
       "        Unnamed: 0                                                tld\n",
       "0                0                [u'glenbrookdodgechryslerjeep.com']\n",
       "1                1  [u'usmilitarymuseum.org', u'baldtruthtalk.com'...\n",
       "2                2                              [u'lindasecrist.com']\n",
       "3                3                                 [u'bcferries.com']\n",
       "4                4                               [u'golfcollege.edu']\n",
       "5                5                [u'cccti.edu', u'elcoyotecafe.com']\n",
       "6                6  [u'bryancountyga.org', u'propertyresourcesgrou...\n",
       "7                7  [u'kfc.com.cn', u'smscsoccer.com', u'texaspepp...\n",
       "8                8  [u'rlac.com', u'mayersonjcc.org', u'ossipeelak...\n",
       "9                9       [u'chevytalk.org', u'barnesville.k12.oh.us']\n",
       "10              10                               [u'ocean.k12.wa.us']\n",
       "11              11  [u'townofkentct.org', u'windhamhouse.com', u'w...\n",
       "12              12                              [u'shadowtrader.net']\n",
       "13              13                           [u'jamestownharley.com']\n",
       "14              14  [u'brainerdsports.net', u'georgewhiteames.com'...\n",
       "15              15                            [u'bigtopbouncers.com']\n",
       "16              16       [u'metigosheministries.com', u'autodev.com']\n",
       "17              17                                      [u'kasd.org']\n",
       "18              18                               [u'metrotvnews.com']\n",
       "19              19                                 [u'marealtor.com']\n",
       "20              20  [u'kajeet.com', u'scoliosis.org', u'crowclinic...\n",
       "21              21                                [u'sake-world.com']\n",
       "22              22                                    [u'ips-dc.org']\n",
       "23              23                       [u'bestwesterncapitola.com']\n",
       "24              24                    [u'majesticcarpetcleaning.net']\n",
       "25              25                                  [u'ipmarker.com']\n",
       "26              26         [u'thebentspoon.net', u'thegingerman.com']\n",
       "27              27                                [u'877parties.com']\n",
       "28              28  [u'themarlayhouse.com', u'saisd.org', u'shesai...\n",
       "29              29                                [u'pizzamanak.com']\n",
       "...            ...                                                ...\n",
       "330118      330118                                [u'dvdverdict.com']\n",
       "330119      330119        [u'telefe.com', u'rsiinsurancebrokers.com']\n",
       "330120      330120                 [u'lexcem.org', u'guymturner.com']\n",
       "330121      330121                               [u'collegecalc.org']\n",
       "330122      330122  [u'humanrightsattorney.com', u'tuttocitta.it',...\n",
       "330123      330123                                   [u'555east.com']\n",
       "330124      330124                       [u'sandusky-city.k12.oh.us']\n",
       "330125      330125                                   [u'bassani.com']\n",
       "330126      330126                          [u'gothamcomedyclub.com']\n",
       "330127      330127                [u'turnto10.com', u'c-cyachts.com']\n",
       "330128      330128                     [u'jamestowndistributors.com']\n",
       "330129      330129             [u'jrslastlaugh.com', u'bazonline.ch']\n",
       "330130      330130                          [u'cityofportlandtn.gov']\n",
       "330131      330131  [u'carstar.com', u'uww.edu', u'sycamorervresor...\n",
       "330132      330132                [u'mokanbcrescue.org', u'kddi.com']\n",
       "330133      330133                               [u'takachpress.com']\n",
       "330134      330134                                 [u'starizona.com']\n",
       "330135      330135                                  [u'abatewis.org']\n",
       "330136      330136  [u'giltner.k12.ne.us', u'tazewellspeedway.net'...\n",
       "330137      330137                                   [u'btetech.com']\n",
       "330138      330138                          [u'innatthepresidio.com']\n",
       "330139      330139  [u'koehlerlaw.net', u'generalfinishes.com', u'...\n",
       "330140      330140  [u'wellsfargo.com', u'hfradio.org', u'vsso.org...\n",
       "330141      330141                         [u'lakeregionschools.org']\n",
       "330142      330142                                  [u'tri-rail.com']\n",
       "330143      330143                             [u'epcasabyowner.com']\n",
       "330144      330144  [u'tek-tips.com', u'bgcourt.org', u'wellschamb...\n",
       "330145      330145  [u'kimballartcenter.org', u'jimsusa.com', u'oc...\n",
       "330146      330146         [u'bethel-omaha.org', u'exoticpetvet.net']\n",
       "330147      330147                            [u'hackerstickers.com']\n",
       "\n",
       "[330148 rows x 2 columns]"
      ]
     },
     "execution_count": 19,
     "metadata": {},
     "output_type": "execute_result"
    }
   ],
   "source": [
    "import pandas as pd\n",
    "pd.read_csv(\"/home/andrew/websites.csv\")"
   ]
  },
  {
   "cell_type": "code",
   "execution_count": 111,
   "metadata": {
    "collapsed": false
   },
   "outputs": [],
   "source": [
    "from sklearn.feature_extraction.text import CountVectorizer\n",
    "import numpy as np\n",
    "def tokenize(text):\n",
    "    return(text)\n",
    "vectorizer = CountVectorizer(min_df=1,tokenizer=tokenize,lowercase=False)\n",
    "data = df2.toPandas().values.ravel().tolist()\n",
    "X = vectorizer.fit_transform(data)\n",
    "feature_names = vectorizer.get_feature_names()\n",
    "feature_names = np.asarray(feature_names)"
   ]
  },
  {
   "cell_type": "code",
   "execution_count": 112,
   "metadata": {
    "collapsed": false
   },
   "outputs": [],
   "source": [
    "import scipy.io\n",
    "scipy.io.mmwrite('/home/andrew/WebsiteDate',X)"
   ]
  },
  {
   "cell_type": "code",
   "execution_count": 114,
   "metadata": {
    "collapsed": false
   },
   "outputs": [],
   "source": [
    "np.savetxt('/home/andrew/WebsiteNames',feature_names,delimiter=' ',fmt='%s')"
   ]
  },
  {
   "cell_type": "code",
   "execution_count": 97,
   "metadata": {
    "collapsed": false
   },
   "outputs": [
    {
     "ename": "NameError",
     "evalue": "name 'plot' is not defined",
     "output_type": "error",
     "traceback": [
      "\u001b[0;31m---------------------------------------------------------------------------\u001b[0m",
      "\u001b[0;31mNameError\u001b[0m                                 Traceback (most recent call last)",
      "\u001b[0;32m<ipython-input-97-f598743168a3>\u001b[0m in \u001b[0;36m<module>\u001b[0;34m()\u001b[0m\n\u001b[1;32m      8\u001b[0m \u001b[0max\u001b[0m\u001b[0;34m.\u001b[0m\u001b[0mset_xticks\u001b[0m\u001b[0;34m(\u001b[0m\u001b[0mnp\u001b[0m\u001b[0;34m.\u001b[0m\u001b[0marange\u001b[0m\u001b[0;34m(\u001b[0m\u001b[0;36m20\u001b[0m\u001b[0;34m)\u001b[0m \u001b[0;34m+\u001b[0m \u001b[0mwidth\u001b[0m\u001b[0;34m/\u001b[0m\u001b[0;36m2\u001b[0m\u001b[0;34m)\u001b[0m\u001b[0;34m\u001b[0m\u001b[0m\n\u001b[1;32m      9\u001b[0m \u001b[0max\u001b[0m\u001b[0;34m.\u001b[0m\u001b[0mset_xticklabels\u001b[0m\u001b[0;34m(\u001b[0m\u001b[0mlist\u001b[0m\u001b[0;34m(\u001b[0m\u001b[0mfeature_names\u001b[0m\u001b[0;34m[\u001b[0m\u001b[0mmost_common_words\u001b[0m\u001b[0;34m[\u001b[0m\u001b[0;36m0\u001b[0m\u001b[0;34m,\u001b[0m\u001b[0;34m-\u001b[0m\u001b[0;36m20\u001b[0m\u001b[0;34m:\u001b[0m\u001b[0;34m]\u001b[0m\u001b[0;34m]\u001b[0m\u001b[0;34m.\u001b[0m\u001b[0mflat\u001b[0m\u001b[0;34m)\u001b[0m\u001b[0;34m,\u001b[0m \u001b[0mrotation\u001b[0m\u001b[0;34m=\u001b[0m\u001b[0;36m90\u001b[0m\u001b[0;34m)\u001b[0m\u001b[0;34m\u001b[0m\u001b[0m\n\u001b[0;32m---> 10\u001b[0;31m \u001b[0mplot\u001b[0m\u001b[0;34m.\u001b[0m\u001b[0mshow\u001b[0m\u001b[0;34m(\u001b[0m\u001b[0;34m)\u001b[0m\u001b[0;34m\u001b[0m\u001b[0m\n\u001b[0m",
      "\u001b[0;31mNameError\u001b[0m: name 'plot' is not defined"
     ]
    },
    {
     "data": {
      "image/png": "[encoded data removed]",
      "text/plain": [
       "<matplotlib.figure.Figure at 0x7f19ad1fd210>"
      ]
     },
     "metadata": {},
     "output_type": "display_data"
    }
   ],
   "source": [
    "%matplotlib inline\n",
    "import matplotlib.pyplot as plt\n",
    "\n",
    "most_common_words = np.argsort(X.sum(axis=0))\n",
    "ax = plt.subplot(111)\n",
    "width=0.8\n",
    "ax.bar(range(20),list(X.sum(axis=0)[0,most_common_words[0,-20:]].flat) , width=width)\n",
    "ax.set_xticks(np.arange(20) + width/2)\n",
    "ax.set_xticklabels(list(feature_names[most_common_words[0,-20:]].flat), rotation=90)\n",
    "plot.show()"
   ]
  },
  {
   "cell_type": "code",
   "execution_count": 115,
   "metadata": {
    "collapsed": false
   },
   "outputs": [
    {
     "name": "stderr",
     "output_type": "stream",
     "text": [
      "/usr/local/lib/python2.7/dist-packages/sklearn/utils/validation.py:429: DataConversionWarning: Data with input dtype int64 was converted to float64 by the normalize function.\n",
      "  warnings.warn(msg, _DataConversionWarning)\n"
     ]
    }
   ],
   "source": [
    "import sklearn.cluster as cluster\n",
    "import sklearn as sk\n",
    "data_norm  = sk.preprocessing.normalize(X,axis=1, norm='l2')\n"
   ]
  },
  {
   "cell_type": "code",
   "execution_count": 125,
   "metadata": {
    "collapsed": false
   },
   "outputs": [],
   "source": [
    "mykmeans = sk.cluster.KMeans(n_clusters=3).fit(data_norm)\n",
    "l_kmeans = mykmeans.predict(data_norm)\n"
   ]
  },
  {
   "cell_type": "code",
   "execution_count": 150,
   "metadata": {
    "collapsed": false
   },
   "outputs": [
    {
     "data": {
      "text/plain": [
       "<matplotlib.collections.PathCollection at 0x7f19ac9ddfd0>"
      ]
     },
     "execution_count": 150,
     "metadata": {},
     "output_type": "execute_result"
    },
    {
     "data": {
      "image/png": "[encoded data removed]",
      "text/plain": [
       "<matplotlib.figure.Figure at 0x7f19d7a52550>"
      ]
     },
     "metadata": {},
     "output_type": "display_data"
    }
   ],
   "source": [
    "from __future__ import division\n",
    "pca = sk.decomposition.TruncatedSVD(n_components = 3)\n",
    "pca.fit(data_norm)\n",
    "data_pca= pca.transform(data_norm)\n",
    "fig = plt.figure(figsize=(20, 20))\n",
    "ax = fig.add_subplot(111)\n",
    "ax.scatter(data_pca[0:,0],data_pca[0:,1],c = l_kmeans / (np.unique(l_kmeans).size-1),alpha=0.5,s= 100)\n"
   ]
  },
  {
   "cell_type": "code",
   "execution_count": 148,
   "metadata": {
    "collapsed": false
   },
   "outputs": [
    {
     "data": {
      "text/plain": [
       "array([ 0.40000001,  0.49803922,  0.5       ,  0.59909266,  0.64633605,\n",
       "        0.70385237,  0.78823531])"
      ]
     },
     "execution_count": 148,
     "metadata": {},
     "output_type": "execute_result"
    }
   ],
   "source": [
    "np.unique(color)"
   ]
  },
  {
   "cell_type": "code",
   "execution_count": null,
   "metadata": {
    "collapsed": false,
    "deletable": true,
    "editable": true
   },
   "outputs": [],
   "source": [
    "from pyspark.sql.functions import explode\n",
    "from pyspark.sql.functions import col\n",
    "\n",
    "keys = (df2\n",
    "    .select(explode(\"tldAggScores\"))\n",
    "    .select(\"key\")\n",
    "    .distinct()\n",
    "    .rdd.flatMap(lambda x: x)\n",
    "    .collect())\n",
    "\n",
    "exprs = [col(\"tldAggScores\").getItem(k).alias(k) for k in keys]\n",
    "websites = df2.select(*exprs)\n"
   ]
  },
  {
   "cell_type": "code",
   "execution_count": null,
   "metadata": {
    "collapsed": false,
    "deletable": true,
    "editable": true
   },
   "outputs": [],
   "source": [
    "from pyspark.mllib.linalg.distributed import CoordinateMatrix, MatrixEntry\n",
    "mat = CoordinateMatrix(websites.rdd.map(lambda row: MatrixEntry(*row)))"
   ]
  },
  {
   "cell_type": "code",
   "execution_count": null,
   "metadata": {
    "collapsed": false,
    "deletable": true,
    "editable": true
   },
   "outputs": [],
   "source": [
    "len(websites.schema)\n",
    "mat\n",
    "#colsums = websites.withColumn('total', sum(websites[col] for col in websites.columns))"
   ]
  },
  {
   "cell_type": "code",
   "execution_count": null,
   "metadata": {
    "collapsed": false,
    "deletable": true,
    "editable": true
   },
   "outputs": [],
   "source": [
    "children = spark.sql(\"SELECT Subscriberid, child_in_hshld_count from table1\") \n",
    "children.na.drop(subset=[\"child_in_hshld_count\"]).count()"
   ]
  },
  {
   "cell_type": "code",
   "execution_count": null,
   "metadata": {
    "collapsed": false,
    "deletable": true,
    "editable": true
   },
   "outputs": [],
   "source": [
    "sc = spark.sparkContext\n",
    "from pyspark.mllib.linalg.distributed import CoordinateMatrix, MatrixEntry\n"
   ]
  },
  {
   "cell_type": "code",
   "execution_count": null,
   "metadata": {
    "collapsed": false,
    "deletable": true,
    "editable": true
   },
   "outputs": [],
   "source": [
    "#websites.take(1).show()\n",
    "CoordinateMatrix(websites.rdd).entries.toDF(['column','row' 'value'])"
   ]
  }
 ],
 "metadata": {
  "kernelspec": {
   "display_name": "Python 2",
   "language": "python",
   "name": "python2"
  },
  "language_info": {
   "codemirror_mode": {
    "name": "ipython",
    "version": 2
   },
   "file_extension": ".py",
   "mimetype": "text/x-python",
   "name": "python",
   "nbconvert_exporter": "python",
   "pygments_lexer": "ipython2",
   "version": "2.7.12+"
  }
 },
 "nbformat": 4,
 "nbformat_minor": 2
}
