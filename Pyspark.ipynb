{
 "cells": [
  {
   "cell_type": "markdown",
   "metadata": {},
   "source": [
    "<pre>\n",
    "Needs to be using python 2 kernal\n",
    "\n",
    "python2 -m pip install ipykernel\n",
    "\n",
    "python2 -m ipykernel install --usern\n",
    "\n",
    "I added this to my .bashrc file\n",
    "\n",
    "export SPARK_HOME=/home/andrew/Downloads/spark-2.1.0-bin-hadoop2.7\n",
    "export PATH = $Spark_HOME/bin:$PATH\n",
    "\n",
    "\n",
    "export PYTHONPATH=$SPARK_HOME/python/$PYTHONPATH\n",
    "export PYTHONPATH=$SPARK_HOME/python/lib/py4j-0.10.4-src.zip$PYTHONPATH\n",
    "\n",
    "Then finally\n",
    "\n",
    "pip2 install findspark\n",
    "</pre>"
   ]
  },
  {
   "cell_type": "code",
   "execution_count": 4,
   "metadata": {
    "collapsed": true
   },
   "outputs": [],
   "source": [
    "import findspark\n",
    "findspark.init()\n",
    "import pyspark\n",
    "spark = pyspark.sql.SparkSession \\\n",
    "    .builder \\\n",
    "    .appName(\"Read Some Parquet\") \\\n",
    "    .config(\"spark.some.config.option\", \"some-value\") \\\n",
    "    .getOrCreate()"
   ]
  },
  {
   "cell_type": "code",
   "execution_count": 5,
   "metadata": {
    "collapsed": false
   },
   "outputs": [
    {
     "name": "stdout",
     "output_type": "stream",
     "text": [
      "+----------------+------------+-----------+-------+\n",
      "|    subscriberid|featureValue|featureType|measure|\n",
      "+----------------+------------+-----------+-------+\n",
      "|3220237051000000|        dpcz|          4|    1.0|\n",
      "|2294189755000000|       djud1|          4|    1.0|\n",
      "|8102531227000000|       66413|          3|    1.0|\n",
      "|5720868074000000|       57730|          3|    1.0|\n",
      "|7931520141000000|       65746|          3|    1.0|\n",
      "|4388889546000000|       dr77q|          4|    1.0|\n",
      "|3684046523000000|       91750|          3|    1.0|\n",
      "|8702309588000000|       80524|          3|    1.0|\n",
      "|3506846389000000|       99502|          3|    1.0|\n",
      "|6506852123000000|     9q5f36v|          4|    1.0|\n",
      "|2777595771000000|       56320|          3|    1.0|\n",
      "|5882619442000000|       dpq8r|          4|    1.0|\n",
      "|3737765807000000|       99026|          3|    1.0|\n",
      "|3754656122000000|       43964|          3|    1.0|\n",
      "|2790677778000000|        9r94|          4|    1.0|\n",
      "|7887428116000000|       70446|          3|    1.0|\n",
      "|5539548998000000|       07032|          3|    1.0|\n",
      "|1884725782000000|       bdvk9|          4|    1.0|\n",
      "|4976565920000000|       dnhsv|          4|    1.0|\n",
      "|3789409596000000|       bdvk9|          4|    1.0|\n",
      "+----------------+------------+-----------+-------+\n",
      "only showing top 20 rows\n",
      "\n"
     ]
    }
   ],
   "source": [
    "\n",
    "df = spark.read.parquet(\"/home/andrew/Documents/CAMCOS/Verizon/Verizon data/agg/oneday/feature/day=2016-11-25\")\n",
    "df.show()"
   ]
  },
  {
   "cell_type": "code",
   "execution_count": 12,
   "metadata": {
    "collapsed": false
   },
   "outputs": [
    {
     "name": "stdout",
     "output_type": "stream",
     "text": [
      "('There are ', 92527, 'unique subscriberids and ', 219873, ' rows the original')\n"
     ]
    }
   ],
   "source": [
    "df.createOrReplaceTempView(\"table1\")\n",
    "df2 = spark.sql(\"SELECT DISTINCT subscriberid from table1\") \n",
    "print(\"There are \",df2.count(), \"unique subscriberids and \", df.count(), \" rows the original\")"
   ]
  },
  {
   "cell_type": "code",
   "execution_count": 13,
   "metadata": {
    "collapsed": false
   },
   "outputs": [
    {
     "name": "stdout",
     "output_type": "stream",
     "text": [
      "('There are ', 52652, 'unique featureValues')\n"
     ]
    }
   ],
   "source": [
    "df2 = spark.sql(\"SELECT DISTINCT featureValue from table1\") \n",
    "print(\"There are \",df2.count(), \"unique featureValues\")"
   ]
  },
  {
   "cell_type": "markdown",
   "metadata": {},
   "source": [
    "<pre>\n",
    "Now let's look at our hist table\n",
    "</pre>"
   ]
  },
  {
   "cell_type": "code",
   "execution_count": 14,
   "metadata": {
    "collapsed": false
   },
   "outputs": [
    {
     "name": "stdout",
     "output_type": "stream",
     "text": [
      "+----------------+-------+--------------+----------+-----------+--------------------+--------------------+------------+-------------+--------------------+--------------------+--------------------+--------------------+--------------------+--------------------+----------------+--------------------+---------------+--------------------+--------------------+-------+--------------------+-------+-------------------+---------------------+-----------------+------+---------+---------+---------+-------------------+-------+---------+-----------------+----------+-----------+--------------+----------+----------------+----------+-------------------+---------------+----------------+-------------------+-----------------+---------------+--------------------------+------------------------+-----------------------------+------------------+-----------------------------+-------------------+------------------------------+--------------------------+--------------------+----------+------------------+---------+-----------------------+----------------------+----------------------+----------------------+----------------+--------------------+-----------+--------------+-----------------+------------------------+------------------+-----------+---------+-------------+----------------+\n",
      "|    subscriberid|privacy|         osSet|vzCategMap|appCategMap|              dmaMap|            stateMap|vzcategories|appcategories|                 dma|               state|        tldAggScores|     entityAggScores|        zipAggScores|    dynaGeoAggScores|appNameAggScores|                 tld|         entity|                 zip|         dynaGeohash|appname|                 CLM|    age|             income|homeowner_status_desc|marital_status_cd|gender|education|race_desc|lang_desc|child_in_hshld_flag|zip5_cd|acct_type|acct_type_primary|birth_year|birth_month|experian_match|home_value|       residence|occupation|interest_automotive|interest_travel|interest_fitness|interest_home_decor|interest_outdoors|interest_sports|interest_sports_propensity|contributes_to_charities|contrib_to_charity_propensity|purchased_via_mail|purchased_via_mail_propensity|purchase_via_online|purchase_via_online_propensity|internet_online_subscriber|child_in_hshld_count| mosaic_z4|              eaid|child_age|device_mweb_handset_ind|device_gin_handset_ind|device_sms_handset_ind|device_streaming_video|device_data_tier|device_data_tier_fin|device_tier|device_os_type|device_os_version|device_device_brand_name|device_model_alias|device_make|device_os|  device_type|device_osversion|\n",
      "+----------------+-------+--------------+----------+-----------+--------------------+--------------------+------------+-------------+--------------------+--------------------+--------------------+--------------------+--------------------+--------------------+----------------+--------------------+---------------+--------------------+--------------------+-------+--------------------+-------+-------------------+---------------------+-----------------+------+---------+---------+---------+-------------------+-------+---------+-----------------+----------+-----------+--------------+----------+----------------+----------+-------------------+---------------+----------------+-------------------+-----------------+---------------+--------------------------+------------------------+-----------------------------+------------------+-----------------------------+-------------------+------------------------------+--------------------------+--------------------+----------+------------------+---------+-----------------------+----------------------+----------------------+----------------------+----------------+--------------------+-----------+--------------+-----------------+------------------------+------------------+-----------+---------+-------------+----------------+\n",
      "|1000256437000000|    OIN|            []|     Map()|      Map()|Map(20170101 -> W...|Map(20170101 -> W...|          []|           []|               [743]|                [AK]|                null|                null|   Map(99502 -> 2.0)|   Map(bdvk9 -> 2.0)|            null|                null|           null|             [99502]|             [bdvk9]|   null|                null|   null|               null|                 null|             null|  null|     null|     null|     null|               null|   null|     null|             null|      null|       null|          null|      null|            null|      null|               null|           null|            null|               null|             null|           null|                      null|                    null|                         null|              null|                         null|               null|                          null|                      null|                null|      null|              null|     null|                   null|                  null|                  null|                  null|            null|                null|       null|          null|             null|                    null|              null|       null|     null|         null|            null|\n",
      "|1001617822000000|    NOO|            []|     Map()|      Map()|Map(20170105 -> W...|Map(20170105 -> W...|          []|           []|[533, 575, 756, 567]|    [CT, TN, MT, NC]|                null|                null|Map(37301 -> 8.0,...|Map(dn71 -> 8.0, ...|            null|                null|           null|[37301, 59068, 28...|[dn71, dnm88u, 9v...|   null|                null|   null|               null|                 null|             null|  null|     null|     null|     null|               null|   null|     null|             null|      null|       null|          null|      null|            null|      null|               null|           null|            null|               null|             null|           null|                      null|                    null|                         null|              null|                         null|               null|                          null|                      null|                null|      null|              null|     null|                      Y|                     N|                     N|                     N|        Internet|            Internet|           |           8.1|              QCM|                     QEC|                NA|      Apple|      iOS|         Card|             QCM|\n",
      "|1001846729000000|    NOO|            []|     Map()|      Map()|Map(20170120 -> W...|Map(20170120 -> W...|          []|           []|[670, 602, 709, 743]|[OK, UNKNOWN, TX,...|                null|                null|Map(60491 -> 13.0...|Map(dp3kxn -> 3.0...|            null|                null|           null|[60491, 74945, 75...|[dp3kxn, dp3kxq, ...|   null|                null|   null|               null|                 null|             null|  null|     null|     null|     null|               null|   null|     null|             null|      null|       null|          null|      null|            null|      null|               null|           null|            null|               null|             null|           null|                      null|                    null|                         null|              null|                         null|               null|                          null|                      null|                null|      null|              null|     null|                      Y|                      |                     Y|                      |     Smartphones|            Internet|           |              |              EFA|                     QEC|                 Y|      Apple|      iOS|  Smart Phone|             EFA|\n",
      "|1002918146000000|    NOO|[Windows, iOS]|     Map()|      Map()|Map(20170202 -> W...|Map(20170202 -> W...|          []|           []|               [506]|                [MA]|Map(glenbrookdodg...|                null|Map(02458 -> 12.0...|Map(drt2unw -> 1....|            null|[glenbrookdodgech...|           null|      [02458, 02459]|[drt2unw, drt2unq...|   null|                null|   null|               null|                 null|             null|  null|     null|     null|     null|               null|   null|     null|             null|      null|       null|          null|      null|            null|      null|               null|           null|            null|               null|             null|           null|                      null|                    null|                         null|              null|                         null|               null|                          null|                      null|                null|      null|              null|     null|                      Y|                     N|                     Y|                     N|           basic|         Smartphones|           |              |              QCM|                     QEC|                  |      Apple|      iOS|Feature Phone|             QCM|\n",
      "|1003076438000000|    NOO|     [Windows]|     Map()|      Map()|Map(20170113 -> W...|Map(20170113 -> W...|          []|           []|               [554]|                [OH]|                null|                null|   Map(43716 -> 5.0)|    Map(dpn6 -> 5.0)|            null|                null|           null|             [43716]|              [dpn6]|   null|                null|   null|               null|                 null|             null|  null|     null|     null|     null|               null|   null|     null|             null|      null|       null|          null|      null|            null|      null|               null|           null|            null|               null|             null|           null|                      null|                    null|                         null|              null|                         null|               null|                          null|                      null|                null|      null|              null|     null|                      N|                      |                     N|                     Y|        Internet|            Internet|           |              |              PDS|                        |                NA|   Qualcomm|  Unknown|       Module|             PDS|\n",
      "|1005457930000000|    OIN|            []|     Map()|      Map()|Map(20170131 -> W...|Map(20170131 -> W...|          []|           []|               [527]|                [IN]|                null|                null|   Map(47342 -> 6.0)|   Map(dp5jr -> 6.0)|            null|                null|           null|             [47342]|             [dp5jr]|   null|                null|55 - 64|  $50,000 - $74,999|                     |                U|     M|        3|    Asian|  Spanish|                  N|  99841|        L|    acct_primary3|      1952|         05|              |          |Less than a year|          |                   |              0|                |                   |                 |               |                         Y|                        |                             |                  |                             |                   |                             6|                          |                    |          |  Family Funtastic|       []|                   null|                  null|                  null|                  null|            null|                null|       null|          null|             null|                    null|              null|       null|     null|         null|            null|\n",
      "|1007199274000000|    NOO|            []|     Map()|      Map()|Map(20170202 -> W...|Map(20170202 -> W...|          []|           []|          [623, 709]|                [TX]|                null|                null|Map(75446 -> 5.0,...|Map(9vs9 -> 2.0, ...|            null|                null|           null|      [75446, 75904]|        [9vs9, 9vgy]|   null|                null|   null|               null|                 null|             null|  null|     null|     null|     null|               null|   null|     null|             null|      null|       null|          null|      null|            null|      null|               null|           null|            null|               null|             null|           null|                      null|                    null|                         null|              null|                         null|               null|                          null|                      null|                null|      null|              null|     null|                   null|                  null|                  null|                  null|            null|                null|       null|          null|             null|                    null|              null|       null|     null|         null|            null|\n",
      "|1007566597000000|    NOO|            []|     Map()|      Map()|Map(20170103 -> W...|Map(20170103 -> W...|          []|           []|                  []|                  []|                null|                null|                null|                null|            null|                null|           null|                null|                null|   null|[CLM.25_membershi...|35 - 44|$125,000 - $149,999|                     |                U|     F|        5|    Other|  Spanish|                  N|  13345|        L|    acct_primary3|      1929|         12|              |          |         10 - 25|     Other|                   |               |                |                   |                 |               |                          |                        |                             |                  |                            1|                   |                             5|                          |                    |          |No Place Like Home|       []|                   null|                  null|                  null|                  null|            null|                null|       null|          null|             null|                    null|              null|       null|     null|         null|            null|\n",
      "|1008608407000000|    NOO|            []|     Map()|      Map()|Map(20170120 -> W...|Map(20170120 -> W...|          []|           []|[686, 521, 548, 819]|        [FL, RI, WA]|                null|                null|Map(02804 -> 14.0...|Map(drkgx -> 14.0...|            null|                null|           null|[02804, 33470, 32...|[drkgx, dhwzu, dj...|   null|                null|   null|               null|                 null|             null|  null|     null|     null|     null|               null|   null|     null|             null|      null|       null|          null|      null|            null|      null|               null|           null|            null|               null|             null|           null|                      null|                    null|                         null|              null|                         null|               null|                          null|                      null|                null|      null|              null|     null|                       |                     Y|                     N|                     N|        Internet|            Internet|           |              |              AQC|                     QEC|                NA|         LG|  Android|       Module|             AQC|\n",
      "|1008766785000000|    NOO|[Windows, iOS]|     Map()|      Map()|Map(20170102 -> W...|Map(20170102 -> W...|          []|           []|               [613]|                [MN]|                null|                null|   Map(55053 -> 6.0)|   Map(9zvuc -> 6.0)|            null|                null|           null|             [55053]|             [9zvuc]|   null|                null|   null|               null|                 null|             null|  null|     null|     null|     null|               null|   null|     null|             null|      null|       null|          null|      null|            null|      null|               null|           null|            null|               null|             null|           null|                      null|                    null|                         null|              null|                         null|               null|                          null|                      null|                null|      null|              null|     null|                      Y|                      |                     Y|                     N|     Smartphones|         Smartphones|           |              |              AQC|                     QEC|                  |   Qualcomm|  Android|  Smart Phone|             AQC|\n",
      "|1012055392000000|    NOO|[Windows, iOS]|     Map()|      Map()|Map(20170202 -> W...|Map(20170202 -> W...|          []|           []|                  []|                  []|Map(usmilitarymus...| Map(telenor -> 1.0)|   Map(92106 -> 1.0)|Map(9mudhn -> 1.0...|            null|[usmilitarymuseum...|      [telenor]|             [92106]|    [9mudhn, 9mudhq]|   null|[CLM.25_membershi...|35 - 44|$175,000 - $199,999|                     |                U|     F|        2|    Asian|  Spanish|                  N|  92386|        L|    acct_primary3|      1921|         05|              |          |             26+|     Other|                   |               |                |                   |                 |               |                          |                        |                             |                  |                             |                   |                              |                          |                    |          |       Latin Flair|       []|                   null|                  null|                  null|                  null|            null|                null|       null|          null|             null|                    null|              null|       null|     null|         null|            null|\n",
      "|1015120891000000|    NOO|[iOS, Windows]|     Map()|      Map()|Map(20170126 -> W...|Map(20170126 -> W...|          []|           []|                  []|                  []|Map(lindasecrist....|                null|   Map(94044 -> 1.0)|Map(9q8yf -> 1.0,...|            null|  [lindasecrist.com]|           null|             [94044]|      [9q8yf, 9q8yc]|   null|                null|55 - 64|   35,000 - $49,999|                     |                U|     M|        3|   Jewish|  Spanish|                  Y|  93033|    acct4|                 |      1960|         11|             N|          |                |          |                   |               |                |                   |                 |              Y|                          |                        |                             |                  |                             |                   |                             2|                          |                    |4 Children| Kids And Cabernet|    [7-9]|                      N|                     Y|                     Y|                     N|     Smartphones|               basic|           |           8.1|              AQC|                     QEC|                 N|         LG|  Android|  Smart Phone|             AQC|\n",
      "|1015630983000000|    OIN|            []|     Map()|      Map()|Map(20170120 -> W...|Map(20170120 -> W...|          []|           []|[511, 567, 506, 8...|[MD, SC, NH, MA, CA]|                null|                null|Map(03079 -> 4.0,...|Map(9q5dp8 -> 10....|            null|                null|           null|[03079, 03076, 29...|[9q5dp8, drt75j, ...|   null|                null|   null|               null|                 null|             null|  null|     null|     null|     null|               null|   null|     null|             null|      null|       null|          null|      null|            null|      null|               null|           null|            null|               null|             null|           null|                      null|                    null|                         null|              null|                         null|               null|                          null|                      null|                null|      null|              null|     null|                      Y|                     Y|                     N|                     N|           basic|               basic|           |              |              PDS|                     QEC|                  |      Apple|      iOS|Feature Phone|             PDS|\n",
      "|1016035541000000|    NOO|            []|     Map()|      Map()|Map(20161231 -> W...|Map(20161231 -> W...|          []|           []|                  []|                  []|                null|                null|                null|                null|            null|                null|           null|                null|                null|   null|                null|   null|               null|                 null|             null|  null|     null|     null|     null|               null|   null|     null|             null|      null|       null|          null|      null|            null|      null|               null|           null|            null|               null|             null|           null|                      null|                    null|                         null|              null|                         null|               null|                          null|                      null|                null|      null|              null|     null|                   null|                  null|                  null|                  null|            null|                null|       null|          null|             null|                    null|              null|       null|     null|         null|            null|\n",
      "|1016312804000000|    OIN|            []|     Map()|      Map()|Map(20170109 -> W...|Map(20170109 -> W...|          []|           []|               [743]|                [AK]|                null|                null|  Map(99502 -> 14.0)|  Map(bdvk9 -> 14.0)|            null|                null|           null|             [99502]|             [bdvk9]|   null|                null|   null|               null|                 null|             null|  null|     null|     null|     null|               null|   null|     null|             null|      null|       null|          null|      null|            null|      null|               null|           null|            null|               null|             null|           null|                      null|                    null|                         null|              null|                         null|               null|                          null|                      null|                null|      null|              null|     null|                   null|                  null|                  null|                  null|            null|                null|       null|          null|             null|                    null|              null|       null|     null|         null|            null|\n",
      "|1017716292000000|    NOO|            []|     Map()|      Map()|Map(20170108 -> W...|Map(20170108 -> W...|          []|           []|               [630]|                [AL]|                null|                null|  Map(35580 -> 15.0)|   Map(djcz -> 15.0)|            null|                null|           null|             [35580]|              [djcz]|   null|                null|   null|               null|                 null|             null|  null|     null|     null|     null|               null|   null|     null|             null|      null|       null|          null|      null|            null|      null|               null|           null|            null|               null|             null|           null|                      null|                    null|                         null|              null|                         null|               null|                          null|                      null|                null|      null|              null|     null|                   null|                  null|                  null|                  null|            null|                null|       null|          null|             null|                    null|              null|       null|     null|         null|            null|\n",
      "|1018474139000000|    NOO|     [Windows]|     Map()|      Map()|Map(20170110 -> W...|Map(20170110 -> W...|          []|           []|                  []|                  []|Map(bcferries.com...|Map(electrotyping...|                null|                null|            null|     [bcferries.com]|[electrotyping]|                null|                null|   null|                null|35 - 44|    $1000 - $14,999|                     |                U|      |        2|   Jewish|    Greek|                  Y|   7863|    acct4|    acct_primary3|      1990|         12|              |          |Less than a year|          |                   |               |               0|                   |                 |               |                          |                        |                            4|                  |                            5|                   |                             5|                          |                    |2 Children|  Gospel And Grits|       []|                      N|                     Y|                     Y|                     Y|        Internet|            Internet|           |           8.1|              QCM|                     POL|                  |      Apple|      iOS|         Card|             QCM|\n",
      "|1018968166000000|    NOO|[Windows, iOS]|     Map()|      Map()|Map(20170120 -> W...|Map(20170120 -> W...|          []|           []|               [743]|                [AK]|Map(golfcollege.e...|                null|Map(99502 -> 2.0,...|Map(dndf6 -> 1.0,...|            null|   [golfcollege.edu]|           null|      [99502, 42141]|      [dndf6, bdvk9]|   null|                null|   null|               null|                 null|             null|  null|     null|     null|     null|               null|   null|     null|             null|      null|       null|          null|      null|            null|      null|               null|           null|            null|               null|             null|           null|                      null|                    null|                         null|              null|                         null|               null|                          null|                      null|                null|      null|              null|     null|                      Y|                     N|                     N|                     N|           basic|               basic|           |              |              QCM|                     POL|                 N|      Apple|      iOS|Feature Phone|             QCM|\n",
      "|1018993199000000|    NOO|     [Windows]|     Map()|      Map()|Map(20170120 -> W...|Map(20170120 -> W...|          []|           []|                  []|                  []|Map(cccti.edu -> ...|Map(caesaropapism...|                null|                null|            null|[cccti.edu, elcoy...|[caesaropapism]|                null|                null|   null|                null|   null|               null|                 null|             null|  null|     null|     null|     null|               null|   null|     null|             null|      null|       null|          null|      null|            null|      null|               null|           null|            null|               null|             null|           null|                      null|                    null|                         null|              null|                         null|               null|                          null|                      null|                null|      null|              null|     null|                      N|                     N|                     N|                     N|        Internet|            Internet|          Y|              |              QCM|                     QDA|                  |      Apple|      iOS|       Module|             QCM|\n",
      "|1019396984000000|    NOO|[Windows, iOS]|     Map()|      Map()|Map(20170202 -> W...|Map(20170202 -> W...|          []|           []|                  []|                  []|Map(bryancountyga...|                null|                null|                null|            null|[bryancountyga.or...|           null|                null|                null|   null|                null|   null|               null|                 null|             null|  null|     null|     null|     null|               null|   null|     null|             null|      null|       null|          null|      null|            null|      null|               null|           null|            null|               null|             null|           null|                      null|                    null|                         null|              null|                         null|               null|                          null|                      null|                null|      null|              null|     null|                   null|                  null|                  null|                  null|            null|                null|       null|          null|             null|                    null|              null|       null|     null|         null|            null|\n",
      "+----------------+-------+--------------+----------+-----------+--------------------+--------------------+------------+-------------+--------------------+--------------------+--------------------+--------------------+--------------------+--------------------+----------------+--------------------+---------------+--------------------+--------------------+-------+--------------------+-------+-------------------+---------------------+-----------------+------+---------+---------+---------+-------------------+-------+---------+-----------------+----------+-----------+--------------+----------+----------------+----------+-------------------+---------------+----------------+-------------------+-----------------+---------------+--------------------------+------------------------+-----------------------------+------------------+-----------------------------+-------------------+------------------------------+--------------------------+--------------------+----------+------------------+---------+-----------------------+----------------------+----------------------+----------------------+----------------+--------------------+-----------+--------------+-----------------+------------------------+------------------+-----------+---------+-------------+----------------+\n",
      "only showing top 20 rows\n",
      "\n"
     ]
    }
   ],
   "source": [
    "hist = spark.read.parquet(\"/home/andrew/Documents/CAMCOS/Verizon/Verizon data/agg/agg/hist/date=20170202\")\n",
    "hist.show()"
   ]
  },
  {
   "cell_type": "code",
   "execution_count": 18,
   "metadata": {
    "collapsed": false
   },
   "outputs": [
    {
     "name": "stdout",
     "output_type": "stream",
     "text": [
      "('There are ', 999937, ' rows in hist and ', 73, ' columns')\n",
      "The columns are \n",
      "\n",
      "root\n",
      " |-- subscriberid: string (nullable = true)\n",
      " |-- privacy: string (nullable = true)\n",
      " |-- osSet: array (nullable = true)\n",
      " |    |-- element: string (containsNull = true)\n",
      " |-- vzCategMap: map (nullable = true)\n",
      " |    |-- key: string\n",
      " |    |-- value: array (valueContainsNull = true)\n",
      " |    |    |-- element: string (containsNull = true)\n",
      " |-- appCategMap: map (nullable = true)\n",
      " |    |-- key: string\n",
      " |    |-- value: array (valueContainsNull = true)\n",
      " |    |    |-- element: string (containsNull = true)\n",
      " |-- dmaMap: map (nullable = true)\n",
      " |    |-- key: string\n",
      " |    |-- value: array (valueContainsNull = true)\n",
      " |    |    |-- element: string (containsNull = true)\n",
      " |-- stateMap: map (nullable = true)\n",
      " |    |-- key: string\n",
      " |    |-- value: array (valueContainsNull = true)\n",
      " |    |    |-- element: string (containsNull = true)\n",
      " |-- vzcategories: array (nullable = true)\n",
      " |    |-- element: string (containsNull = true)\n",
      " |-- appcategories: array (nullable = true)\n",
      " |    |-- element: string (containsNull = true)\n",
      " |-- dma: array (nullable = true)\n",
      " |    |-- element: string (containsNull = true)\n",
      " |-- state: array (nullable = true)\n",
      " |    |-- element: string (containsNull = true)\n",
      " |-- tldAggScores: map (nullable = true)\n",
      " |    |-- key: string\n",
      " |    |-- value: double (valueContainsNull = true)\n",
      " |-- entityAggScores: map (nullable = true)\n",
      " |    |-- key: string\n",
      " |    |-- value: double (valueContainsNull = true)\n",
      " |-- zipAggScores: map (nullable = true)\n",
      " |    |-- key: string\n",
      " |    |-- value: double (valueContainsNull = true)\n",
      " |-- dynaGeoAggScores: map (nullable = true)\n",
      " |    |-- key: string\n",
      " |    |-- value: double (valueContainsNull = true)\n",
      " |-- appNameAggScores: map (nullable = true)\n",
      " |    |-- key: string\n",
      " |    |-- value: double (valueContainsNull = true)\n",
      " |-- tld: array (nullable = true)\n",
      " |    |-- element: string (containsNull = true)\n",
      " |-- entity: array (nullable = true)\n",
      " |    |-- element: string (containsNull = true)\n",
      " |-- zip: array (nullable = true)\n",
      " |    |-- element: string (containsNull = true)\n",
      " |-- dynaGeohash: array (nullable = true)\n",
      " |    |-- element: string (containsNull = true)\n",
      " |-- appname: array (nullable = true)\n",
      " |    |-- element: string (containsNull = true)\n",
      " |-- CLM: array (nullable = true)\n",
      " |    |-- element: string (containsNull = true)\n",
      " |-- age: string (nullable = true)\n",
      " |-- income: string (nullable = true)\n",
      " |-- homeowner_status_desc: string (nullable = true)\n",
      " |-- marital_status_cd: string (nullable = true)\n",
      " |-- gender: string (nullable = true)\n",
      " |-- education: string (nullable = true)\n",
      " |-- race_desc: string (nullable = true)\n",
      " |-- lang_desc: string (nullable = true)\n",
      " |-- child_in_hshld_flag: string (nullable = true)\n",
      " |-- zip5_cd: string (nullable = true)\n",
      " |-- acct_type: string (nullable = true)\n",
      " |-- acct_type_primary: string (nullable = true)\n",
      " |-- birth_year: string (nullable = true)\n",
      " |-- birth_month: string (nullable = true)\n",
      " |-- experian_match: string (nullable = true)\n",
      " |-- home_value: string (nullable = true)\n",
      " |-- residence: string (nullable = true)\n",
      " |-- occupation: string (nullable = true)\n",
      " |-- interest_automotive: string (nullable = true)\n",
      " |-- interest_travel: string (nullable = true)\n",
      " |-- interest_fitness: string (nullable = true)\n",
      " |-- interest_home_decor: string (nullable = true)\n",
      " |-- interest_outdoors: string (nullable = true)\n",
      " |-- interest_sports: string (nullable = true)\n",
      " |-- interest_sports_propensity: string (nullable = true)\n",
      " |-- contributes_to_charities: string (nullable = true)\n",
      " |-- contrib_to_charity_propensity: string (nullable = true)\n",
      " |-- purchased_via_mail: string (nullable = true)\n",
      " |-- purchased_via_mail_propensity: string (nullable = true)\n",
      " |-- purchase_via_online: string (nullable = true)\n",
      " |-- purchase_via_online_propensity: string (nullable = true)\n",
      " |-- internet_online_subscriber: string (nullable = true)\n",
      " |-- child_in_hshld_count: string (nullable = true)\n",
      " |-- mosaic_z4: string (nullable = true)\n",
      " |-- eaid: string (nullable = true)\n",
      " |-- child_age: array (nullable = true)\n",
      " |    |-- element: string (containsNull = true)\n",
      " |-- device_mweb_handset_ind: string (nullable = true)\n",
      " |-- device_gin_handset_ind: string (nullable = true)\n",
      " |-- device_sms_handset_ind: string (nullable = true)\n",
      " |-- device_streaming_video: string (nullable = true)\n",
      " |-- device_data_tier: string (nullable = true)\n",
      " |-- device_data_tier_fin: string (nullable = true)\n",
      " |-- device_tier: string (nullable = true)\n",
      " |-- device_os_type: string (nullable = true)\n",
      " |-- device_os_version: string (nullable = true)\n",
      " |-- device_device_brand_name: string (nullable = true)\n",
      " |-- device_model_alias: string (nullable = true)\n",
      " |-- device_make: string (nullable = true)\n",
      " |-- device_os: string (nullable = true)\n",
      " |-- device_type: string (nullable = true)\n",
      " |-- device_osversion: string (nullable = true)\n",
      "\n"
     ]
    }
   ],
   "source": [
    "# Really ugly but what is the shape of hist\n",
    "print('There are ',hist.count(),' rows in hist and ',len(hist.schema), ' columns')\n",
    "print('The columns are \\n')\n",
    "hist.printSchema()"
   ]
  }
 ],
 "metadata": {
  "kernelspec": {
   "display_name": "Python 2",
   "language": "python",
   "name": "python2"
  },
  "language_info": {
   "codemirror_mode": {
    "name": "ipython",
    "version": 2
   },
   "file_extension": ".py",
   "mimetype": "text/x-python",
   "name": "python",
   "nbconvert_exporter": "python",
   "pygments_lexer": "ipython2",
   "version": "2.7.12+"
  }
 },
 "nbformat": 4,
 "nbformat_minor": 2
}
