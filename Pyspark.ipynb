{
 "cells": [
  {
   "cell_type": "markdown",
   "metadata": {},
   "source": [
    "<pre>\n",
    "Needs to be using python 2 kernal\n",
    "\n",
    "python2 -m pip install ipykernel\n",
    "\n",
    "python2 -m ipykernel install --usern\n",
    "\n",
    "I added this to my .bashrc file\n",
    "\n",
    "export SPARK_HOME=/home/andrew/Downloads/spark-2.1.0-bin-hadoop2.7\n",
    "export PATH = $Spark_HOME/bin:$PATH\n",
    "\n",
    "\n",
    "export PYTHONPATH=$SPARK_HOME/python/$PYTHONPATH\n",
    "export PYTHONPATH=$SPARK_HOME/python/lib/py4j-0.10.4-src.zip$PYTHONPATH\n",
    "\n",
    "Then finally\n",
    "\n",
    "pip2 install findspark\n",
    "</pre>"
   ]
  },
  {
   "cell_type": "code",
   "execution_count": 4,
   "metadata": {
    "collapsed": true
   },
   "outputs": [],
   "source": [
    "import findspark\n",
    "findspark.init()\n",
    "import pyspark\n",
    "spark = pyspark.sql.SparkSession \\\n",
    "    .builder \\\n",
    "    .appName(\"Read Some Parquet\") \\\n",
    "    .config(\"spark.some.config.option\", \"some-value\") \\\n",
    "    .getOrCreate()"
   ]
  },
  {
   "cell_type": "code",
   "execution_count": 5,
   "metadata": {
    "collapsed": false
   },
   "outputs": [
    {
     "name": "stdout",
     "output_type": "stream",
     "text": [
      "+----------------+------------+-----------+-------+\n",
      "|    subscriberid|featureValue|featureType|measure|\n",
      "+----------------+------------+-----------+-------+\n",
      "|3220237051000000|        dpcz|          4|    1.0|\n",
      "|2294189755000000|       djud1|          4|    1.0|\n",
      "|8102531227000000|       66413|          3|    1.0|\n",
      "|5720868074000000|       57730|          3|    1.0|\n",
      "|7931520141000000|       65746|          3|    1.0|\n",
      "|4388889546000000|       dr77q|          4|    1.0|\n",
      "|3684046523000000|       91750|          3|    1.0|\n",
      "|8702309588000000|       80524|          3|    1.0|\n",
      "|3506846389000000|       99502|          3|    1.0|\n",
      "|6506852123000000|     9q5f36v|          4|    1.0|\n",
      "|2777595771000000|       56320|          3|    1.0|\n",
      "|5882619442000000|       dpq8r|          4|    1.0|\n",
      "|3737765807000000|       99026|          3|    1.0|\n",
      "|3754656122000000|       43964|          3|    1.0|\n",
      "|2790677778000000|        9r94|          4|    1.0|\n",
      "|7887428116000000|       70446|          3|    1.0|\n",
      "|5539548998000000|       07032|          3|    1.0|\n",
      "|1884725782000000|       bdvk9|          4|    1.0|\n",
      "|4976565920000000|       dnhsv|          4|    1.0|\n",
      "|3789409596000000|       bdvk9|          4|    1.0|\n",
      "+----------------+------------+-----------+-------+\n",
      "only showing top 20 rows\n",
      "\n"
     ]
    }
   ],
   "source": [
    "\n",
    "df = spark.read.parquet(\"/home/andrew/Documents/CAMCOS/Verizon/Verizon data/agg/oneday/feature/day=2016-11-25\")\n",
    "df.show()"
   ]
  },
  {
   "cell_type": "code",
   "execution_count": null,
   "metadata": {
    "collapsed": true
   },
   "outputs": [],
   "source": []
  }
 ],
 "metadata": {
  "kernelspec": {
   "display_name": "Python 2",
   "language": "python",
   "name": "python2"
  },
  "language_info": {
   "codemirror_mode": {
    "name": "ipython",
    "version": 2
   },
   "file_extension": ".py",
   "mimetype": "text/x-python",
   "name": "python",
   "nbconvert_exporter": "python",
   "pygments_lexer": "ipython2",
   "version": "2.7.12+"
  }
 },
 "nbformat": 4,
 "nbformat_minor": 2
}
