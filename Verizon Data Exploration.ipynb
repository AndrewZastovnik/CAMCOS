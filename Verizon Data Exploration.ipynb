{
 "cells": [
  {
   "cell_type": "markdown",
   "metadata": {
    "collapsed": true,
    "deletable": true,
    "editable": true
   },
   "source": [
    " <center>![title](https://ss7.vzw.com/is/image/VerizonWireless/vzw-logo-156-130-c)</center>"
   ]
  },
  {
   "cell_type": "markdown",
   "metadata": {
    "deletable": true,
    "editable": true
   },
   "source": [
    "<h1><center>Data Exploration</center></h1>"
   ]
  },
  {
   "cell_type": "code",
   "execution_count": 5,
   "metadata": {
    "collapsed": false,
    "deletable": true,
    "editable": true
   },
   "outputs": [
    {
     "ename": "SyntaxError",
     "evalue": "invalid syntax (<ipython-input-5-637afc843fb8>, line 4)",
     "output_type": "error",
     "traceback": [
      "\u001b[0;36m  File \u001b[0;32m\"<ipython-input-5-637afc843fb8>\"\u001b[0;36m, line \u001b[0;32m4\u001b[0m\n\u001b[0;31m    from /home/andrew/Downloads/spark-2.1.0-bin-hadoop2.7/bin/pyspark import SparkContext\u001b[0m\n\u001b[0m         ^\u001b[0m\n\u001b[0;31mSyntaxError\u001b[0m\u001b[0;31m:\u001b[0m invalid syntax\n"
     ]
    }
   ],
   "source": [
    "import pandas as pd\n",
    "import numpy as np\n",
    "import matplotlib.pyplot as plt\n",
    "from /home/andrew/Downloads/spark-2.1.0-bin-hadoop2.7/bin/pyspark import SparkContext\n",
    "df = pd.read_csv('/home/andrew/downloads/Feature-2016-11-25.csv')\n",
    "df.head(5)"
   ]
  },
  {
   "cell_type": "markdown",
   "metadata": {
    "deletable": true,
    "editable": true
   },
   "source": [
    "Show the 3 most common values in featureValue"
   ]
  },
  {
   "cell_type": "code",
   "execution_count": 1,
   "metadata": {
    "collapsed": false,
    "deletable": true,
    "editable": true
   },
   "outputs": [
    {
     "ename": "NameError",
     "evalue": "name 'pd' is not defined",
     "output_type": "error",
     "traceback": [
      "\u001b[0;31m---------------------------------------------------------------------------\u001b[0m",
      "\u001b[0;31mNameError\u001b[0m                                 Traceback (most recent call last)",
      "\u001b[0;32m<ipython-input-1-e35d5486f4b3>\u001b[0m in \u001b[0;36m<module>\u001b[0;34m()\u001b[0m\n\u001b[0;32m----> 1\u001b[0;31m \u001b[0mpd\u001b[0m\u001b[0;34m.\u001b[0m\u001b[0mSeries\u001b[0m\u001b[0;34m(\u001b[0m\u001b[0mdf\u001b[0m\u001b[0;34m.\u001b[0m\u001b[0mfeatureValue\u001b[0m\u001b[0;34m)\u001b[0m\u001b[0;34m.\u001b[0m\u001b[0mvalue_counts\u001b[0m\u001b[0;34m(\u001b[0m\u001b[0;34m)\u001b[0m\u001b[0;34m[\u001b[0m\u001b[0;36m0\u001b[0m\u001b[0;34m:\u001b[0m\u001b[0;36m3\u001b[0m\u001b[0;34m]\u001b[0m\u001b[0;34m\u001b[0m\u001b[0m\n\u001b[0m",
      "\u001b[0;31mNameError\u001b[0m: name 'pd' is not defined"
     ]
    }
   ],
   "source": [
    "pd.Series(df.featureValue).value_counts()[0:3]"
   ]
  },
  {
   "cell_type": "markdown",
   "metadata": {
    "deletable": true,
    "editable": true
   },
   "source": []
  },
  {
   "cell_type": "code",
   "execution_count": null,
   "metadata": {
    "collapsed": true
   },
   "outputs": [],
   "source": []
  },
  {
   "cell_type": "code",
   "execution_count": 2,
   "metadata": {
    "collapsed": false,
    "deletable": true,
    "editable": true,
    "scrolled": true
   },
   "outputs": [
    {
     "data": {
      "image/png": "[encoded data removed]",
      "text/plain": [
       "<matplotlib.figure.Figure at 0x7fcac2da03c8>"
      ]
     },
     "metadata": {},
     "output_type": "display_data"
    }
   ],
   "source": [
    "plt.bar(np.arange(100),pd.Series(df.featureValue).value_counts()[3:103])\n",
    "plt.show()"
   ]
  },
  {
   "cell_type": "code",
   "execution_count": 3,
   "metadata": {
    "collapsed": false,
    "deletable": true,
    "editable": true
   },
   "outputs": [
    {
     "data": {
      "text/html": [
       "<div>\n",
       "<table border=\"1\" class=\"dataframe\">\n",
       "  <thead>\n",
       "    <tr style=\"text-align: right;\">\n",
       "      <th></th>\n",
       "      <th>Unnamed: 0</th>\n",
       "      <th>0</th>\n",
       "      <th>1</th>\n",
       "      <th>2</th>\n",
       "      <th>3</th>\n",
       "      <th>4</th>\n",
       "      <th>5</th>\n",
       "      <th>6</th>\n",
       "      <th>7</th>\n",
       "      <th>8</th>\n",
       "      <th>...</th>\n",
       "      <th>63</th>\n",
       "      <th>64</th>\n",
       "      <th>65</th>\n",
       "      <th>66</th>\n",
       "      <th>67</th>\n",
       "      <th>68</th>\n",
       "      <th>69</th>\n",
       "      <th>70</th>\n",
       "      <th>71</th>\n",
       "      <th>72</th>\n",
       "    </tr>\n",
       "  </thead>\n",
       "  <tbody>\n",
       "    <tr>\n",
       "      <th>0</th>\n",
       "      <td>0</td>\n",
       "      <td>1000256437000000</td>\n",
       "      <td>OIN</td>\n",
       "      <td>[]</td>\n",
       "      <td>{}</td>\n",
       "      <td>{}</td>\n",
       "      <td>{u'20170101': [u'743']}</td>\n",
       "      <td>{u'20170101': [u'AK']}</td>\n",
       "      <td>[]</td>\n",
       "      <td>[]</td>\n",
       "      <td>...</td>\n",
       "      <td>NaN</td>\n",
       "      <td>NaN</td>\n",
       "      <td>NaN</td>\n",
       "      <td>NaN</td>\n",
       "      <td>NaN</td>\n",
       "      <td>NaN</td>\n",
       "      <td>NaN</td>\n",
       "      <td>NaN</td>\n",
       "      <td>NaN</td>\n",
       "      <td>NaN</td>\n",
       "    </tr>\n",
       "  </tbody>\n",
       "</table>\n",
       "<p>1 rows × 74 columns</p>\n",
       "</div>"
      ],
      "text/plain": [
       "   Unnamed: 0                 0    1   2   3   4                        5  \\\n",
       "0           0  1000256437000000  OIN  []  {}  {}  {u'20170101': [u'743']}   \n",
       "\n",
       "                        6   7   8 ...  63  64  65  66  67  68  69  70  71  72  \n",
       "0  {u'20170101': [u'AK']}  []  [] ... NaN NaN NaN NaN NaN NaN NaN NaN NaN NaN  \n",
       "\n",
       "[1 rows x 74 columns]"
      ]
     },
     "execution_count": 3,
     "metadata": {},
     "output_type": "execute_result"
    }
   ],
   "source": [
    "aggagg = pd.read_csv('/home/andrew/downloads/aggagg.csv')\n",
    "for i in range(0,74,10)\n",
    "aggagg[0,i:i+10]"
   ]
  },
  {
   "cell_type": "markdown",
   "metadata": {},
   "source": [
    "<h1>Schema for aggagg</h1>\n",
    "<body>\n",
    "root<br>\n",
    " |-- subscriberid: string (nullable = true)<br>\n",
    " |-- privacy: string (nullable = true)<br>\n",
    " |-- osSet: array (nullable = true)<br>\n",
    " |    |-- element: string (containsNull = true)<br>\n",
    " |-- vzCategMap: map (nullable = true)<br>\n",
    " |    |-- key: string<br>\n",
    " |    |-- value: array (valueContainsNull = true)<br>\n",
    " |    |    |-- element: string (containsNull = true)<br>\n",
    " |-- appCategMap: map (nullable = true)<br>\n",
    " |    |-- key: string<br>\n",
    " |    |-- value: array (valueContainsNull = true)<br>\n",
    " |    |    |-- element: string (containsNull = true)<br>\n",
    " |-- dmaMap: map (nullable = true)<br>\n",
    " |    |-- key: string<br>\n",
    " |    |-- value: array (valueContainsNull = true)<br>\n",
    " |    |    |-- element: string (containsNull = true)<br>\n",
    " |-- stateMap: map (nullable = true)<br>\n",
    " |    |-- key: string<br>\n",
    " |    |-- value: array (valueContainsNull = true)<br>\n",
    " |    |    |-- element: string (containsNull = true)<br>\n",
    " |-- vzcategories: array (nullable = true)<br>\n",
    " |    |-- element: string (containsNull = true)<br>\n",
    " |-- appcategories: array (nullable = true)<br>\n",
    " |    |-- element: string (containsNull = true)<br>\n",
    " |-- dma: array (nullable = true)<br>\n",
    " |    |-- element: string (containsNull = true)<br>\n",
    " |-- state: array (nullable = true)<br>\n",
    " |    |-- element: string (containsNull = true)<br>\n",
    " |-- tldAggScores: map (nullable = true)<br>\n",
    " |    |-- key: string<br>\n",
    " |    |-- value: double (valueContainsNull = true)<br>\n",
    " |-- entityAggScores: map (nullable = true)<br>\n",
    " |    |-- key: string<br>\n",
    " |    |-- value: double (valueContainsNull = true)<br>\n",
    " |-- zipAggScores: map (nullable = true)<br>\n",
    " |    |-- key: string<br>\n",
    " |    |-- value: double (valueContainsNull = true)<br>\n",
    " |-- dynaGeoAggScores: map (nullable = true)<br>\n",
    " |    |-- key: string<br>\n",
    " |    |-- value: double (valueContainsNull = true)<br>\n",
    " |-- appNameAggScores: map (nullable = true)<br>\n",
    " |    |-- key: string<br>\n",
    " |    |-- value: double (valueContainsNull = true)<br>\n",
    " |-- tld: array (nullable = true)<br>\n",
    " |    |-- element: string (containsNull = true)<br>\n",
    " |-- entity: array (nullable = true)<br>\n",
    " |    |-- element: string (containsNull = true)<br>\n",
    " |-- zip: array (nullable = true)<br>\n",
    " |    |-- element: string (containsNull = true)<br>\n",
    " |-- dynaGeohash: array (nullable = true)<br>\n",
    " |    |-- element: string (containsNull = true)<br>\n",
    " |-- appname: array (nullable = true)<br>\n",
    " |    |-- element: string (containsNull = true)<br>\n",
    " |-- CLM: array (nullable = true)<br>\n",
    " |    |-- element: string (containsNull = true)<br>\n",
    " |-- age: string (nullable = true)<br>\n",
    " |-- income: string (nullable = true)<br>\n",
    " |-- homeowner_status_desc: string (nullable = true)<br>\n",
    " |-- marital_status_cd: string (nullable = true)<br>\n",
    " |-- gender: string (nullable = true)<br>\n",
    " |-- education: string (nullable = true)<br>\n",
    " |-- race_desc: string (nullable = true)<br>\n",
    " |-- lang_desc: string (nullable = true)<br>\n",
    " |-- child_in_hshld_flag: string (nullable = true)<br>\n",
    " |-- zip5_cd: string (nullable = true)<br>\n",
    " |-- acct_type: string (nullable = true)<br>\n",
    " |-- acct_type_primary: string (nullable = true)<br>\n",
    " |-- birth_year: string (nullable = true)<br>\n",
    " |-- birth_month: string (nullable = true)<br>\n",
    " |-- experian_match: string (nullable = true)<br>\n",
    " |-- home_value: string (nullable = true)<br>\n",
    " |-- residence: string (nullable = true)<br>\n",
    " |-- occupation: string (nullable = true)<br>\n",
    " |-- interest_automotive: string (nullable = true)<br>\n",
    " |-- interest_travel: string (nullable = true)<br>\n",
    " |-- interest_fitness: string (nullable = true)<br>\n",
    " |-- interest_home_decor: string (nullable = true)<br>\n",
    " |-- interest_outdoors: string (nullable = true)<br>\n",
    " |-- interest_sports: string (nullable = true)<br>\n",
    " |-- interest_sports_propensity: string (nullable = true)<br>\n",
    " |-- contributes_to_charities: string (nullable = true)<br>\n",
    " |-- contrib_to_charity_propensity: string (nullable = true)<br>\n",
    " |-- purchased_via_mail: string (nullable = true)<br>\n",
    " |-- purchased_via_mail_propensity: string (nullable = true)<br>\n",
    " |-- purchase_via_online: string (nullable = true)<br>\n",
    " |-- purchase_via_online_propensity: string (nullable = true)<br>\n",
    " |-- internet_online_subscriber: string (nullable = true)<br>\n",
    " |-- child_in_hshld_count: string (nullable = true)<br>\n",
    " |-- mosaic_z4: string (nullable = true)<br>\n",
    " |-- eaid: string (nullable = true)<br>\n",
    " |-- child_age: array (nullable = true)<br>\n",
    " |    |-- element: string (containsNull = true)<br>\n",
    " |-- device_mweb_handset_ind: string (nullable = true)<br>\n",
    " |-- device_gin_handset_ind: string (nullable = true)<br>\n",
    " |-- device_sms_handset_ind: string (nullable = true)<br>\n",
    " |-- device_streaming_video: string (nullable = true)<br>\n",
    " |-- device_data_tier: string (nullable = true)<br>\n",
    " |-- device_data_tier_fin: string (nullable = true)<br>\n",
    " |-- device_tier: string (nullable = true)<br>\n",
    " |-- device_os_type: string (nullable = true)<br>\n",
    " |-- device_os_version: string (nullable = true)<br>\n",
    " |-- device_device_brand_name: string (nullable = true)<br>\n",
    " |-- device_model_alias: string (nullable = true)<br>\n",
    " |-- device_make: string (nullable = true)<br>\n",
    " |-- device_os: string (nullable = true)<br>\n",
    " |-- device_type: string (nullable = true)<br>\n",
    " |-- device_osversion: string (nullable = true)<br>\n",
    "</body>"
   ]
  }
 ],
 "metadata": {
  "kernelspec": {
   "display_name": "Python 3",
   "language": "python",
   "name": "python3"
  },
  "language_info": {
   "codemirror_mode": {
    "name": "ipython",
    "version": 3
   },
   "file_extension": ".py",
   "mimetype": "text/x-python",
   "name": "python",
   "nbconvert_exporter": "python",
   "pygments_lexer": "ipython3",
   "version": "3.6.0b2"
  }
 },
 "nbformat": 4,
 "nbformat_minor": 0
}
